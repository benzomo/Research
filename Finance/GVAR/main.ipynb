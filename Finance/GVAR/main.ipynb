{
 "cells": [
  {
   "cell_type": "markdown",
   "metadata": {
    "toc": true
   },
   "source": [
    "<h1>Table of Contents<span class=\"tocSkip\"></span></h1>\n",
    "<div class=\"toc\" style=\"margin-top: 1em;\"><ul class=\"toc-item\"><li><span><a href=\"#Initialization\" data-toc-modified-id=\"Initialization-1\"><span class=\"toc-item-num\">1&nbsp;&nbsp;</span>Initialization</a></span></li><li><span><a href=\"#Testing\" data-toc-modified-id=\"Testing-2\"><span class=\"toc-item-num\">2&nbsp;&nbsp;</span>Testing</a></span><ul class=\"toc-item\"><li><ul class=\"toc-item\"><li><span><a href=\"#Equations\" data-toc-modified-id=\"Equations-2.0.1\"><span class=\"toc-item-num\">2.0.1&nbsp;&nbsp;</span>Equations</a></span></li><li><span><a href=\"#Data-Manipulation\" data-toc-modified-id=\"Data-Manipulation-2.0.2\"><span class=\"toc-item-num\">2.0.2&nbsp;&nbsp;</span>Data Manipulation</a></span></li></ul></li></ul></li><li><span><a href=\"#R-Stuff\" data-toc-modified-id=\"R-Stuff-3\"><span class=\"toc-item-num\">3&nbsp;&nbsp;</span>R Stuff</a></span></li></ul></div>"
   ]
  },
  {
   "cell_type": "markdown",
   "metadata": {},
   "source": [
    "# Initialization"
   ]
  },
  {
   "cell_type": "code",
   "execution_count": 1,
   "metadata": {
    "ExecuteTime": {
     "end_time": "2018-01-20T22:06:27.105468Z",
     "start_time": "2018-01-20T22:05:30.768301Z"
    }
   },
   "outputs": [],
   "source": [
    "#from sympy.interactive.printing import init_printing\n",
    "#init_printing(use_unicode=False, wrap_line=True, no_global=True)\n",
    "from sympy import *\n",
    "import numpy as np, pandas as pd\n",
    "import sys, os\n",
    "import xlrd\n",
    "from itertools import permutations, product"
   ]
  },
  {
   "cell_type": "markdown",
   "metadata": {},
   "source": [
    "<h5> Note: missing domestic & cross-border credit </h5>"
   ]
  },
  {
   "cell_type": "code",
   "execution_count": 2,
   "metadata": {},
   "outputs": [],
   "source": [
    "scriptDir = os.path.dirname(os.path.realpath(sys.argv[0]))   # get script directory\n",
    "genDir = \"C:/Users/benmo/OneDrive/GitHub/DataPlayground\" #get general functions path\n",
    "\n",
    "os.chdir(genDir)\n",
    "\n",
    "from General import * # import custom 'general' functions\n",
    "\n",
    "os.chdir(scriptDir)\n",
    "\n",
    "fpath = MyComp.financePath  #path to financial econ folder\n",
    "\n",
    "\n",
    "cntryBook = xlrd.open_workbook(fpath + \"/data/gvar/Country Data (1979Q1-2011Q2).xlsx\")\n",
    "sheets = cntryBook.sheet_names()"
   ]
  },
  {
   "cell_type": "markdown",
   "metadata": {},
   "source": [
    "# Testing"
   ]
  },
  {
   "cell_type": "code",
   "execution_count": null,
   "metadata": {},
   "outputs": [],
   "source": [
    "#disc_rate_sym, T_sym, FaceV_sym, price_sym = symbols('r T F P')\n",
    "#C_sym = MatrixSymbol('C', 5, 1)"
   ]
  },
  {
   "cell_type": "markdown",
   "metadata": {},
   "source": [
    "### Equations"
   ]
  },
  {
   "cell_type": "code",
   "execution_count": null,
   "metadata": {},
   "outputs": [],
   "source": []
  },
  {
   "cell_type": "markdown",
   "metadata": {},
   "source": [
    "### Data Manipulation "
   ]
  },
  {
   "cell_type": "code",
   "execution_count": 4,
   "metadata": {},
   "outputs": [],
   "source": [
    "data = pd.DataFrame([])\n",
    "idx = pd.IndexSlice\n",
    "\n",
    "for sheet in sheets:\n",
    "    temp = pd.read_excel(fpath + \"/data/gvar/Country Data (1979Q1-2011Q2).xlsx\", sheet_name=sheet)\n",
    "    temp['Country'] = sheet\n",
    "    temp.set_index([temp['Country'], temp['date']], inplace=True)\n",
    "    data = data.append(temp)\n",
    "    \n",
    "data = data.sort_index()\n",
    "    "
   ]
  },
  {
   "cell_type": "code",
   "execution_count": 5,
   "metadata": {},
   "outputs": [],
   "source": [
    "tradeMatrix = pd.read_excel(fpath + \"/data/gvar/Trade Matrices (1980-2010).xls\")\n",
    "cntryCodes = pd.read_excel(fpath + \"/data/gvar/Country Codes.xls\", index_col='Country')\n",
    "\n",
    "tradeMatrix['country_primary'] = tradeMatrix['country_primary'].apply(lambda x, code=cntryCodes: \n",
    "                                     code[code.values == x].index[0])\n",
    "\n",
    "countries = tradeMatrix[tradeMatrix.year == 1980]['country_primary'].tolist()\n",
    "tradeMatrix.rename(columns=lambda x, names=cntryCodes: \n",
    "                   names[names.values == int(x[1:])].index[0] if [x[1:]] in names\n",
    "                   .values.astype(str).tolist() else x, \n",
    "                   inplace=True)\n",
    "\n",
    "\n",
    "\n",
    "W = tradeMatrix.set_index([tradeMatrix.country_primary, \n",
    "                           pd.to_datetime(tradeMatrix.astype(str).year)])\n",
    "\n",
    "wEurope = ['Spain', 'Belgium', 'Netherlands', 'Switzerland']\n",
    "mEast = ['Saudi Arabia', 'Turkey']\n",
    "seAsia = ['Korea', 'Thailand', 'Indonesia', 'Malaysia', 'Philippines', 'Singapore']\n",
    "latAmerica = ['Argentina', 'Brazil', 'Chile', 'Peru', 'Mexico']\n",
    "\n",
    "regionDict= {}\n",
    "regionDict['Western Europe'] = wEurope\n",
    "regionDict['Middle East'] = mEast\n",
    "regionDict['Southeast Asia'] = seAsia\n",
    "regionDict['Latin America'] = latAmerica\n",
    "\n",
    "\n",
    "countriesOld = ['USA', 'UK', 'Germany', 'France', 'Italy', 'China', 'Japan']\n",
    "countriesOld.extend(wEurope)\n",
    "countriesOld.extend(mEast)\n",
    "countriesOld.extend(seAsia)\n",
    "countriesOld.extend(latAmerica)\n",
    "\n",
    "\n",
    "regions = ['USA', 'UK', 'Germany', 'France', 'Italy', 'China', 'Japan']\n",
    "regions.extend(['Western Europe','Middle East', 'Southeast Asia', 'Latin America'])\n",
    "\n",
    "\n",
    "W = W.append(pd.DataFrame(index=list(product(['Western Europe','Middle East',\n",
    "                                         'Southeast Asia', 'Latin America'], \n",
    "                                         list(map(str,range(1980,2011)))))))\n",
    "\n",
    "for key, val in regionDict.items():\n",
    "    W[key] = W[list(filter(lambda x: x in val, \n",
    "                                        W.columns.tolist()))].apply(sum, axis=1)\n",
    "    for country in countries:\n",
    "        W.loc[idx[key,:], country] = W[key][country].values\n",
    "    \n",
    "for key, val in regionDict.items():    \n",
    "    for region in list(filter(lambda x: x!= key, regions[-4:])):\n",
    "        W.loc[idx[key,:], region] = W.loc[idx[key,:],\n",
    "                                          regionDict[region]].apply(sum, axis=1)    \n",
    "\n",
    "    \n",
    "W = W.sort_index()\n",
    "idx = pd.IndexSlice\n",
    "\n",
    "\n",
    "Wold = W[regions]\n",
    "\n",
    "Wold = Wold.apply(lambda x: x/x.sum(), axis=1)\n"
   ]
  },
  {
   "cell_type": "code",
   "execution_count": null,
   "metadata": {},
   "outputs": [],
   "source": [
    "regions[-4:]"
   ]
  },
  {
   "cell_type": "code",
   "execution_count": 6,
   "metadata": {},
   "outputs": [
    {
     "data": {
      "text/plain": [
       "USA               0.101464\n",
       "UK                0.132623\n",
       "Germany           0.309007\n",
       "France            0.189977\n",
       "Italy             0.110223\n",
       "China             0.013812\n",
       "Japan             0.039851\n",
       "Western Europe         NaN\n",
       "Middle East       0.020099\n",
       "Southeast Asia    0.053010\n",
       "Latin America     0.029935\n",
       "Name: (Western Europe, 1996-01-01 00:00:00), dtype: float64"
      ]
     },
     "execution_count": 6,
     "metadata": {},
     "output_type": "execute_result"
    }
   ],
   "source": [
    "\n",
    "\n",
    "Wold.loc[idx['Western Europe', '1996':'1998'], :].iloc[0]"
   ]
  },
  {
   "cell_type": "code",
   "execution_count": null,
   "metadata": {},
   "outputs": [],
   "source": []
  },
  {
   "cell_type": "code",
   "execution_count": 8,
   "metadata": {},
   "outputs": [
    {
     "data": {
      "application/vnd.jupyter.widget-view+json": {
       "model_id": "d5c2caa57e6b44a89689ffaaad0794d3",
       "version_major": 2,
       "version_minor": 0
      }
     },
     "metadata": {},
     "output_type": "display_data"
    }
   ],
   "source": [
    "W = pd.DataFrame(index=regions, columns=regions) \n",
    "\n",
    "for region in regions:\n",
    "    W[region] = Wold.loc[idx[region, '1996':'1998'], :].apply(np.mean, axis=0)\n",
    "    \n",
    "W"
   ]
  },
  {
   "cell_type": "code",
   "execution_count": null,
   "metadata": {},
   "outputs": [],
   "source": []
  },
  {
   "cell_type": "code",
   "execution_count": null,
   "metadata": {},
   "outputs": [],
   "source": [
    "\n",
    "for key, val in regionDict.items(): \n",
    "    print([key, val])\n"
   ]
  },
  {
   "cell_type": "markdown",
   "metadata": {},
   "source": [
    "# R Stuff"
   ]
  },
  {
   "cell_type": "code",
   "execution_count": null,
   "metadata": {
    "ExecuteTime": {
     "end_time": "2018-01-20T22:13:40.411535Z",
     "start_time": "2018-01-20T22:13:40.068007Z"
    }
   },
   "outputs": [],
   "source": [
    "fpath\n"
   ]
  },
  {
   "cell_type": "code",
   "execution_count": null,
   "metadata": {
    "ExecuteTime": {
     "end_time": "2018-01-20T22:17:28.273436Z",
     "start_time": "2018-01-20T22:17:15.854785Z"
    }
   },
   "outputs": [],
   "source": [
    "cntryCodes[cntryCodes.values == 160]"
   ]
  },
  {
   "cell_type": "code",
   "execution_count": null,
   "metadata": {
    "ExecuteTime": {
     "end_time": "2018-01-20T22:22:23.201869Z",
     "start_time": "2018-01-20T22:22:15.204539Z"
    }
   },
   "outputs": [],
   "source": []
  },
  {
   "cell_type": "code",
   "execution_count": null,
   "metadata": {
    "ExecuteTime": {
     "end_time": "2018-01-20T22:19:12.493161Z",
     "start_time": "2018-01-20T22:19:12.478636Z"
    }
   },
   "outputs": [],
   "source": []
  },
  {
   "cell_type": "code",
   "execution_count": null,
   "metadata": {
    "ExecuteTime": {
     "end_time": "2018-01-20T22:19:21.170082Z",
     "start_time": "2018-01-20T22:19:21.158567Z"
    }
   },
   "outputs": [],
   "source": []
  },
  {
   "cell_type": "code",
   "execution_count": null,
   "metadata": {},
   "outputs": [],
   "source": []
  },
  {
   "cell_type": "code",
   "execution_count": null,
   "metadata": {},
   "outputs": [],
   "source": []
  },
  {
   "cell_type": "code",
   "execution_count": null,
   "metadata": {},
   "outputs": [],
   "source": []
  },
  {
   "cell_type": "code",
   "execution_count": null,
   "metadata": {},
   "outputs": [],
   "source": []
  },
  {
   "cell_type": "code",
   "execution_count": null,
   "metadata": {},
   "outputs": [],
   "source": []
  }
 ],
 "metadata": {
  "anaconda-cloud": {},
  "kernelspec": {
   "display_name": "Python [conda root]",
   "language": "python",
   "name": "conda-root-py"
  },
  "language_info": {
   "codemirror_mode": {
    "name": "ipython",
    "version": 3
   },
   "file_extension": ".py",
   "mimetype": "text/x-python",
   "name": "python",
   "nbconvert_exporter": "python",
   "pygments_lexer": "ipython3",
   "version": "3.5.2"
  },
  "toc": {
   "nav_menu": {},
   "number_sections": true,
   "sideBar": true,
   "skip_h1_title": false,
   "toc_cell": true,
   "toc_position": {},
   "toc_section_display": "block",
   "toc_window_display": true
  },
  "varInspector": {
   "cols": {
    "lenName": 16,
    "lenType": 16,
    "lenVar": 40
   },
   "kernels_config": {
    "python": {
     "delete_cmd_postfix": "",
     "delete_cmd_prefix": "del ",
     "library": "var_list.py",
     "varRefreshCmd": "print(var_dic_list())"
    },
    "r": {
     "delete_cmd_postfix": ") ",
     "delete_cmd_prefix": "rm(",
     "library": "var_list.r",
     "varRefreshCmd": "cat(var_dic_list()) "
    }
   },
   "types_to_exclude": [
    "module",
    "function",
    "builtin_function_or_method",
    "instance",
    "_Feature"
   ],
   "window_display": false
  }
 },
 "nbformat": 4,
 "nbformat_minor": 2
}
