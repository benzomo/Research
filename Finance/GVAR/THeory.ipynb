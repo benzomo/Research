{
 "cells": [
  {
   "cell_type": "markdown",
   "metadata": {
    "toc": true
   },
   "source": [
    "<h1>Table of Contents<span class=\"tocSkip\"></span></h1>\n",
    "<div class=\"toc\" style=\"margin-top: 1em;\"><ul class=\"toc-item\"><li><span><a href=\"#Initialization\" data-toc-modified-id=\"Initialization-1\"><span class=\"toc-item-num\">1&nbsp;&nbsp;</span>Initialization</a></span></li><li><span><a href=\"#Theory\" data-toc-modified-id=\"Theory-2\"><span class=\"toc-item-num\">2&nbsp;&nbsp;</span>Theory</a></span><ul class=\"toc-item\"><li><ul class=\"toc-item\"><li><span><a href=\"#if-4-countries....\" data-toc-modified-id=\"if-4-countries....-2.0.1\"><span class=\"toc-item-num\">2.0.1&nbsp;&nbsp;</span>if 4 countries....</a></span></li></ul></li></ul></li><li><span><a href=\"#Data\" data-toc-modified-id=\"Data-3\"><span class=\"toc-item-num\">3&nbsp;&nbsp;</span>Data</a></span></li></ul></div>"
   ]
  },
  {
   "cell_type": "markdown",
   "metadata": {},
   "source": [
    "# Initialization"
   ]
  },
  {
   "cell_type": "code",
   "execution_count": 2,
   "metadata": {
    "ExecuteTime": {
     "end_time": "2018-02-09T17:24:14.043836Z",
     "start_time": "2018-02-09T17:24:10.709856Z"
    }
   },
   "outputs": [],
   "source": [
    "from sympy.interactive.printing import init_printing\n",
    "init_printing(use_unicode=False, wrap_line=True, no_global=True)\n",
    "from sympy import *\n",
    "import numpy as np, pandas as pd\n",
    "import sys, os, string\n",
    "import xlrd\n",
    "from itertools import permutations, product\n",
    "from functools import reduce\n",
    "%load_ext rpy2.ipython"
   ]
  },
  {
   "cell_type": "code",
   "execution_count": 2,
   "metadata": {
    "ExecuteTime": {
     "end_time": "2018-02-03T20:49:37.918414Z",
     "start_time": "2018-02-03T20:49:21.188076Z"
    }
   },
   "outputs": [],
   "source": [
    "scriptDir = os.path.dirname(os.path.realpath(sys.argv[0]))   # get script directory\n",
    "try: \n",
    "    genDir = \"C:/Users/benmo/OneDrive/GitHub/DataPlayground\" #get general functions path\n",
    "    os.chdir(genDir)\n",
    "except: \n",
    "    genDir = \"D:/benmo/OneDrive/GitHub/DataPlayground\"\n",
    "    os.chdir(genDir)\n",
    "\n",
    "os.chdir(genDir)\n",
    "\n",
    "from General import * # import custom 'general' functions\n",
    "\n",
    "os.chdir(scriptDir)\n",
    "\n",
    "fpath = MyComp.financePath  #path to financial econ folder\n",
    "\n",
    "\n",
    "cntryBook = xlrd.open_workbook(fpath + \"/data/gvar/Country Data (1979Q1-2011Q2).xlsx\")\n",
    "sheets = cntryBook.sheet_names()"
   ]
  },
  {
   "cell_type": "markdown",
   "metadata": {},
   "source": [
    "# Theory"
   ]
  },
  {
   "cell_type": "code",
   "execution_count": 3,
   "metadata": {
    "ExecuteTime": {
     "end_time": "2018-02-03T20:49:54.161023Z",
     "start_time": "2018-02-03T20:49:53.876152Z"
    },
    "code_folding": [],
    "run_control": {
     "marked": false
    }
   },
   "outputs": [
    {
     "data": {
      "image/png": "[encoded data removed]",
      "text/latex": [
       "$$\\Lambda_{01} x^{*}_{0t-1} + \\Phi_{0} x_{0t-1}$$"
      ],
      "text/plain": [
       "Lambda_01*x_0t-1^* + Phi_0*x_0t-1"
      ]
     },
     "execution_count": 3,
     "metadata": {},
     "output_type": "execute_result"
    }
   ],
   "source": [
    "lagsD = 1\n",
    "lagsInt = 1\n",
    "\n",
    "n = 6\n",
    "c = 4\n",
    "\n",
    "\n",
    "cntryList = ['USA', 'Canada', 'Japan', 'Germany']\n",
    "\n",
    "\n",
    "varIndex = [[0,1,2,3,4], [0,1,2,3,4,5], [0,1,2,3,4,5], [0,1,2,3,4,5]]\n",
    "varIndex_s = [[0,1,2,3,4,5], [0,1,2,3,4,5], [0,1,2,3,4,5], [0,1,2,3,4,5]]\n",
    "    \n",
    "k = [len(varIndex[0]), len(varIndex[1]), len(varIndex[2]), len(varIndex[3])]\n",
    "ks = [len(varIndex_s[0]), len(varIndex_s[0]), len(varIndex_s[0]), len(varIndex_s[0])]\n",
    "\n",
    "\n",
    "\n",
    "y, p, q, e, rho, m = [[None]*c for i in range(n)]\n",
    "ys, ps, qs, es, rhos, ms = [[None]*c for i in range(n)]\n",
    "\n",
    "for cntry in range(c):\n",
    "    y[cntry], ys[cntry] = [[None]*(lagsD + 1) for i in range(lagsInt + 1)]\n",
    "    p[cntry], ps[cntry] = [[None]*(lagsD + 1) for i in range(lagsInt + 1)]\n",
    "    q[cntry], qs[cntry] = [[None]*(lagsD + 1) for i in range(lagsInt + 1)] \n",
    "    e[cntry], es[cntry] = [[None]*(lagsD + 1) for i in range(lagsInt + 1)]\n",
    "    rho[cntry], rhos[cntry] = [[None]*(lagsD + 1) for i in range(lagsInt + 1)]\n",
    "    m[cntry], ms[cntry] = [[None]*(lagsD + 1) for i in range(lagsInt + 1)]\n",
    "    \n",
    "    \n",
    "x = [[None]*(lagsD + 1)]*c\n",
    "xs = [[None]*(lagsInt + 1)]*c\n",
    "\n",
    "for cntry in range(c):\n",
    "    for lag in range(lagsD+1):\n",
    "        y[cntry][lag], p[cntry][lag], q[cntry][lag], e[cntry][lag], rho[cntry][lag], m[cntry][lag] = symbols(\n",
    "            'y_{i}t{l} p_{i}t{l} q_{i}t{l} e_{i}t{l} rho_{i}t{l} m_{i}t{l}'.format(\n",
    "                i=cntry, l='-{lag}'.format(lag=lag) if lag > 0 else ''))\n",
    "\n",
    "for cntry in range(c):\n",
    "    x[cntry] = [MatrixSymbol(s, k[cntry], 1) for s in [\"x_{i}t{l}\".format(\n",
    "        i=cntry, l='-{lag}'.format(lag=lag) if lag > 0 else '') for lag in range(lagsD+1)]]\n",
    "\n",
    "for cntry in range(c):\n",
    "    for lag in range(lagsInt+1):\n",
    "        ys[cntry][lag], ps[cntry][lag], qs[cntry][lag], es[cntry][lag], rhos[cntry][lag], ms[cntry][lag] = symbols(\n",
    "            'y_{i}t{l}^* p_{i}t{l}^* q_{i}t{l}^* e_{i}t{l}^* rho_{i}t{l}^* m_{i}t{l}^*'.format(\n",
    "                i=cntry, l='-{lag}'.format(lag=lag) if lag > 0 else ''))\n",
    "\n",
    "for cntry in range(c):\n",
    "    xs[cntry] = [MatrixSymbol(s, ks[cntry], 1) for s in [\"x_{i}t{l}^*\".format(\n",
    "        i=cntry, l='-{lag}'.format(lag=lag) if lag > 0 else '') for lag in range(lagsInt+1)]]\n",
    "    \n",
    "\n",
    "a0, a1, phi, lambda0, lambda1, err = [[None]*c for i in range(6)]      \n",
    "\n",
    "\n",
    "for cntry in range(c):    \n",
    "    a0[cntry] = MatrixSymbol(\"a_{i}0\".format(i=cntry), k[cntry], 1)\n",
    "    a1[cntry] = MatrixSymbol(\"a_{i}1\".format(i=cntry), k[cntry], 1)\n",
    "\n",
    "    phi[cntry] = MatrixSymbol(\"Phi_{i}\".format(i=cntry), k[cntry], k[cntry])\n",
    "    lambda0[cntry] = MatrixSymbol(\"Lambda_{i}0\".format(i=cntry), k[cntry],ks[cntry])\n",
    "    lambda1[cntry] = MatrixSymbol(\"Lambda_{i}1\".format(i=cntry), k[cntry],ks[cntry])\n",
    "    err[cntry] = MatrixSymbol(\"epsilon_{i}\".format(i=cntry), k[cntry], 1)\n",
    "\n",
    "t = Symbol('t')\n",
    "\n",
    "\n",
    "I = [None]*n\n",
    "for i in range(1,n+1):\n",
    "    I[i-1] = MatrixSymbol('I_{n}'.format(n=i),i,i)\n",
    "\n",
    "A = [Matrix([I[4], -lambda0[i]]).T for i in range(c)]\n",
    "B = [Matrix([phi[i], lambda1[i]]).T for i in range(c)]\n",
    "\n",
    "x = Matrix(x)\n",
    "xs = Matrix(xs)\n",
    "\n",
    "z = [[Matrix([x[cntry,0],xs[cntry,0]]), Matrix([x[cntry,1],xs[cntry,1]])] for cntry in range(c)]\n",
    "\n",
    "\n",
    "z[0]\n",
    "A[0]*z[0][0]\n",
    "(B[0]*z[0][1])[0]\n",
    "\n"
   ]
  },
  {
   "cell_type": "code",
   "execution_count": 4,
   "metadata": {
    "ExecuteTime": {
     "end_time": "2018-02-03T20:50:12.323427Z",
     "start_time": "2018-02-03T20:50:08.194411Z"
    }
   },
   "outputs": [
    {
     "data": {
      "image/png": "[encoded data removed]",
      "text/latex": [
       "$$x_{0t} = t a_{01} + \\Lambda_{00} x^{*}_{0t} + \\Lambda_{01} x^{*}_{0t-1} + \\Phi_{0} x_{0t-1} + a_{00}$$"
      ],
      "text/plain": [
       "x_0t = t*a_01 + Lambda_00*x_0t^* + Lambda_01*x_0t-1^* + Phi_0*x_0t-1 + a_00"
      ]
     },
     "execution_count": 4,
     "metadata": {},
     "output_type": "execute_result"
    }
   ],
   "source": [
    "\n",
    "for cntry in range(c):\n",
    "    for lag in range(lagsD + 1):\n",
    "        x[cntry,lag].values = Matrix([[y[cntry][lag], p[cntry][lag],\n",
    "                                   q[cntry][lag], e[cntry][lag],\n",
    "                                   rho[cntry][lag], m[cntry][lag]][i] for i in varIndex[cntry]])\n",
    "\n",
    "for cntry in range(c):\n",
    "    for lag in range(lagsInt + 1):    \n",
    "        xs[cntry,lag].values = Matrix([[ys[cntry][lag], ps[cntry][lag],\n",
    "                                    qs[cntry][lag], es[cntry][lag],\n",
    "                                    rhos[cntry][lag], ms[cntry][lag]][i] for i in varIndex_s[cntry]])\n",
    "\n",
    "\n",
    "relational.Eq(x[0,0], a0[0] + a1[0]*t + phi[0]*x[0,1] + lambda0[0]*xs[0,0] + lambda1[0]*xs[0,1])\n"
   ]
  },
  {
   "cell_type": "code",
   "execution_count": 5,
   "metadata": {},
   "outputs": [
    {
     "data": {
      "image/png": "[encoded data removed]",
      "text/latex": [
       "$$I_{5} x_{0t} + -1 \\Lambda_{00} x^{*}_{0t} = t a_{01} + \\Lambda_{01} x^{*}_{0t-1} + \\Phi_{0} x_{0t-1} + a_{00}$$"
      ],
      "text/plain": [
       "I_5*x_0t + -Lambda_00*x_0t^* = t*a_01 + Lambda_01*x_0t-1^* + Phi_0*x_0t-1 + a_\n",
       "00"
      ]
     },
     "execution_count": 5,
     "metadata": {},
     "output_type": "execute_result"
    }
   ],
   "source": [
    "relational.Eq((A[0]*z[0][0])[0], a0[0] + a1[0]*t  + (B[0]*z[0][1])[0])"
   ]
  },
  {
   "cell_type": "code",
   "execution_count": 6,
   "metadata": {},
   "outputs": [
    {
     "data": {
      "image/png": "[encoded data removed]",
      "text/latex": [
       "$$\\left[\\begin{matrix}y_{0t}\\\\p_{0t}\\\\q_{0t}\\\\e_{0t}\\\\\\rho_{0t}\\\\y^{*}_{0t}\\\\p^{*}_{0t}\\\\q^{*}_{0t}\\\\e^{*}_{0t}\\\\\\rho^{*}_{0t}\\\\m^{*}_{0t}\\end{matrix}\\right]$$"
      ],
      "text/plain": [
       "[  y_0t  ]\n",
       "[        ]\n",
       "[  p_0t  ]\n",
       "[        ]\n",
       "[  q_0t  ]\n",
       "[        ]\n",
       "[  e_0t  ]\n",
       "[        ]\n",
       "[ rho_0t ]\n",
       "[        ]\n",
       "[ y_0t^* ]\n",
       "[        ]\n",
       "[ p_0t^* ]\n",
       "[        ]\n",
       "[ q_0t^* ]\n",
       "[        ]\n",
       "[ e_0t^* ]\n",
       "[        ]\n",
       "[rho_0t^*]\n",
       "[        ]\n",
       "[ m_0t^* ]"
      ]
     },
     "execution_count": 6,
     "metadata": {},
     "output_type": "execute_result"
    }
   ],
   "source": [
    "\n",
    "vecVal = lambda zin: Matrix(list(map(lambda x: x.values, zin)))\n",
    "\n",
    "\n",
    "vecVal(z[0][0])"
   ]
  },
  {
   "cell_type": "code",
   "execution_count": 7,
   "metadata": {},
   "outputs": [],
   "source": [
    "\n",
    "tradeWeights = MatrixSymbol('w^(t)', c, c)\n",
    "tradeWeights.values = Matrix([[Symbol('w_{i},{j}'.format(i=i,j=j)) for i in range(c)] for j in range(c)])\n",
    "\n",
    "\n",
    "singleEl = lambda x, y: Matrix([[1 if xi == yi else 0 for xi in x] for yi in y])\n",
    "multiElW = lambda x, y, z, w: [w[i] if (x[i] in y) & (x[i] != z) else 0 for i in range(len(x))]\n",
    "\n",
    "\n",
    "\n"
   ]
  },
  {
   "cell_type": "code",
   "execution_count": 8,
   "metadata": {},
   "outputs": [],
   "source": [
    "weightsAndVars = [[[x[i,0].values,Matrix([tradeWeights.values[i,k]]*len(x[i,0].values))] for i in range(len(x[:,0]))] for k in range(c)]\n",
    "fvars = lambda x: [x[i][0] for i in range(len(x))]\n",
    "fweights = lambda x: [x[i][1] for i in range(len(x))]\n",
    "\n",
    "xvars = Matrix(fvars(weightsAndVars[0]))\n",
    "wvars = [Matrix(fweights(weightsAndVars[i])) for i in range(c)]"
   ]
  },
  {
   "cell_type": "code",
   "execution_count": 9,
   "metadata": {},
   "outputs": [
    {
     "data": {
      "image/png": "[encoded data removed]",
      "text/latex": [
       "$$\\left[\\begin{array}{ccccccccccccccccccccccc}1 & 0 & 0 & 0 & 0 & 0 & 0 & 0 & 0 & 0 & 0 & 0 & 0 & 0 & 0 & 0 & 0 & 0 & 0 & 0 & 0 & 0 & 0\\\\0 & 1 & 0 & 0 & 0 & 0 & 0 & 0 & 0 & 0 & 0 & 0 & 0 & 0 & 0 & 0 & 0 & 0 & 0 & 0 & 0 & 0 & 0\\\\0 & 0 & 1 & 0 & 0 & 0 & 0 & 0 & 0 & 0 & 0 & 0 & 0 & 0 & 0 & 0 & 0 & 0 & 0 & 0 & 0 & 0 & 0\\\\0 & 0 & 0 & 1 & 0 & 0 & 0 & 0 & 0 & 0 & 0 & 0 & 0 & 0 & 0 & 0 & 0 & 0 & 0 & 0 & 0 & 0 & 0\\\\0 & 0 & 0 & 0 & 1 & 0 & 0 & 0 & 0 & 0 & 0 & 0 & 0 & 0 & 0 & 0 & 0 & 0 & 0 & 0 & 0 & 0 & 0\\\\0 & 0 & 0 & 0 & 0 & w_{0,1} & 0 & 0 & 0 & 0 & 0 & w_{0,2} & 0 & 0 & 0 & 0 & 0 & w_{0,3} & 0 & 0 & 0 & 0 & 0\\\\0 & 0 & 0 & 0 & 0 & 0 & w_{0,1} & 0 & 0 & 0 & 0 & 0 & w_{0,2} & 0 & 0 & 0 & 0 & 0 & w_{0,3} & 0 & 0 & 0 & 0\\\\0 & 0 & 0 & 0 & 0 & 0 & 0 & w_{0,1} & 0 & 0 & 0 & 0 & 0 & w_{0,2} & 0 & 0 & 0 & 0 & 0 & w_{0,3} & 0 & 0 & 0\\\\0 & 0 & 0 & 0 & 0 & 0 & 0 & 0 & w_{0,1} & 0 & 0 & 0 & 0 & 0 & w_{0,2} & 0 & 0 & 0 & 0 & 0 & w_{0,3} & 0 & 0\\\\0 & 0 & 0 & 0 & 0 & 0 & 0 & 0 & 0 & w_{0,1} & 0 & 0 & 0 & 0 & 0 & w_{0,2} & 0 & 0 & 0 & 0 & 0 & w_{0,3} & 0\\\\0 & 0 & 0 & 0 & 0 & 0 & 0 & 0 & 0 & 0 & w_{0,1} & 0 & 0 & 0 & 0 & 0 & w_{0,2} & 0 & 0 & 0 & 0 & 0 & w_{0,3}\\end{array}\\right]$$"
      ],
      "text/plain": [
       "[1  0  0  0  0    0      0      0      0      0      0      0      0      0   \n",
       "[                                                                             \n",
       "[0  1  0  0  0    0      0      0      0      0      0      0      0      0   \n",
       "[                                                                             \n",
       "[0  0  1  0  0    0      0      0      0      0      0      0      0      0   \n",
       "[                                                                             \n",
       "[0  0  0  1  0    0      0      0      0      0      0      0      0      0   \n",
       "[                                                                             \n",
       "[0  0  0  0  1    0      0      0      0      0      0      0      0      0   \n",
       "[                                                                             \n",
       "[0  0  0  0  0  w_0,1    0      0      0      0      0    w_0,2    0      0   \n",
       "[                                                                             \n",
       "[0  0  0  0  0    0    w_0,1    0      0      0      0      0    w_0,2    0   \n",
       "[                                                                             \n",
       "[0  0  0  0  0    0      0    w_0,1    0      0      0      0      0    w_0,2 \n",
       "[                                                                             \n",
       "[0  0  0  0  0    0      0      0    w_0,1    0      0      0      0      0   \n",
       "[                                                                             \n",
       "[0  0  0  0  0    0      0      0      0    w_0,1    0      0      0      0   \n",
       "[                                                                             \n",
       "[0  0  0  0  0    0      0      0      0      0    w_0,1    0      0      0   \n",
       "\n",
       "   0      0      0      0      0      0      0      0      0  ]\n",
       "                                                              ]\n",
       "   0      0      0      0      0      0      0      0      0  ]\n",
       "                                                              ]\n",
       "   0      0      0      0      0      0      0      0      0  ]\n",
       "                                                              ]\n",
       "   0      0      0      0      0      0      0      0      0  ]\n",
       "                                                              ]\n",
       "   0      0      0      0      0      0      0      0      0  ]\n",
       "                                                              ]\n",
       "   0      0      0    w_0,3    0      0      0      0      0  ]\n",
       "                                                              ]\n",
       "   0      0      0      0    w_0,3    0      0      0      0  ]\n",
       "                                                              ]\n",
       "   0      0      0      0      0    w_0,3    0      0      0  ]\n",
       "                                                              ]\n",
       " w_0,2    0      0      0      0      0    w_0,3    0      0  ]\n",
       "                                                              ]\n",
       "   0    w_0,2    0      0      0      0      0    w_0,3    0  ]\n",
       "                                                              ]\n",
       "   0      0    w_0,2    0      0      0      0      0    w_0,3]"
      ]
     },
     "execution_count": 9,
     "metadata": {},
     "output_type": "execute_result"
    }
   ],
   "source": [
    "varsList = [y, p, q, e, rho, m]\n",
    "vecVal(x[:,0])\n",
    "Matrix(y)[:,0][0] in vecVal(x[:,0])\n",
    "\n",
    "\n",
    "\n",
    "Matrix.vstack(singleEl(xvars,fvars(weightsAndVars[0])[0]),\n",
    "    Matrix([multiElW(xvars, Matrix(var)[:,0], Matrix(var)[:,0][0], wvars[0]) for var in varsList]))"
   ]
  },
  {
   "cell_type": "code",
   "execution_count": 820,
   "metadata": {},
   "outputs": [
    {
     "data": {
      "image/png": "[encoded data removed]",
      "text/latex": [
       "$$\\left[\\begin{array}{ccccccccccccccccccccccc}0 & 0 & 0 & 0 & 0 & 1 & 0 & 0 & 0 & 0 & 0 & 0 & 0 & 0 & 0 & 0 & 0 & 0 & 0 & 0 & 0 & 0 & 0\\\\0 & 0 & 0 & 0 & 0 & 0 & 1 & 0 & 0 & 0 & 0 & 0 & 0 & 0 & 0 & 0 & 0 & 0 & 0 & 0 & 0 & 0 & 0\\\\0 & 0 & 0 & 0 & 0 & 0 & 0 & 1 & 0 & 0 & 0 & 0 & 0 & 0 & 0 & 0 & 0 & 0 & 0 & 0 & 0 & 0 & 0\\\\0 & 0 & 0 & 0 & 0 & 0 & 0 & 0 & 1 & 0 & 0 & 0 & 0 & 0 & 0 & 0 & 0 & 0 & 0 & 0 & 0 & 0 & 0\\\\0 & 0 & 0 & 0 & 0 & 0 & 0 & 0 & 0 & 1 & 0 & 0 & 0 & 0 & 0 & 0 & 0 & 0 & 0 & 0 & 0 & 0 & 0\\\\0 & 0 & 0 & 0 & 0 & 0 & 0 & 0 & 0 & 0 & 1 & 0 & 0 & 0 & 0 & 0 & 0 & 0 & 0 & 0 & 0 & 0 & 0\\\\w_{1,0} & 0 & 0 & 0 & 0 & 0 & 0 & 0 & 0 & 0 & 0 & w_{1,2} & 0 & 0 & 0 & 0 & 0 & w_{1,3} & 0 & 0 & 0 & 0 & 0\\\\0 & w_{1,0} & 0 & 0 & 0 & 0 & 0 & 0 & 0 & 0 & 0 & 0 & w_{1,2} & 0 & 0 & 0 & 0 & 0 & w_{1,3} & 0 & 0 & 0 & 0\\\\0 & 0 & w_{1,0} & 0 & 0 & 0 & 0 & 0 & 0 & 0 & 0 & 0 & 0 & w_{1,2} & 0 & 0 & 0 & 0 & 0 & w_{1,3} & 0 & 0 & 0\\\\0 & 0 & 0 & w_{1,0} & 0 & 0 & 0 & 0 & 0 & 0 & 0 & 0 & 0 & 0 & w_{1,2} & 0 & 0 & 0 & 0 & 0 & w_{1,3} & 0 & 0\\\\0 & 0 & 0 & 0 & w_{1,0} & 0 & 0 & 0 & 0 & 0 & 0 & 0 & 0 & 0 & 0 & w_{1,2} & 0 & 0 & 0 & 0 & 0 & w_{1,3} & 0\\\\0 & 0 & 0 & 0 & 0 & 0 & 0 & 0 & 0 & 0 & 0 & 0 & 0 & 0 & 0 & 0 & w_{1,2} & 0 & 0 & 0 & 0 & 0 & w_{1,3}\\end{array}\\right]$$"
      ],
      "text/plain": [
       "[  0      0      0      0      0    1  0  0  0  0  0    0      0      0      0\n",
       "[                                                                             \n",
       "[  0      0      0      0      0    0  1  0  0  0  0    0      0      0      0\n",
       "[                                                                             \n",
       "[  0      0      0      0      0    0  0  1  0  0  0    0      0      0      0\n",
       "[                                                                             \n",
       "[  0      0      0      0      0    0  0  0  1  0  0    0      0      0      0\n",
       "[                                                                             \n",
       "[  0      0      0      0      0    0  0  0  0  1  0    0      0      0      0\n",
       "[                                                                             \n",
       "[  0      0      0      0      0    0  0  0  0  0  1    0      0      0      0\n",
       "[                                                                             \n",
       "[w_1,0    0      0      0      0    0  0  0  0  0  0  w_1,2    0      0      0\n",
       "[                                                                             \n",
       "[  0    w_1,0    0      0      0    0  0  0  0  0  0    0    w_1,2    0      0\n",
       "[                                                                             \n",
       "[  0      0    w_1,0    0      0    0  0  0  0  0  0    0      0    w_1,2    0\n",
       "[                                                                             \n",
       "[  0      0      0    w_1,0    0    0  0  0  0  0  0    0      0      0    w_1\n",
       "[                                                                             \n",
       "[  0      0      0      0    w_1,0  0  0  0  0  0  0    0      0      0      0\n",
       "[                                                                             \n",
       "[  0      0      0      0      0    0  0  0  0  0  0    0      0      0      0\n",
       "\n",
       "      0      0      0      0      0      0      0      0  ]\n",
       "                                                          ]\n",
       "      0      0      0      0      0      0      0      0  ]\n",
       "                                                          ]\n",
       "      0      0      0      0      0      0      0      0  ]\n",
       "                                                          ]\n",
       "      0      0      0      0      0      0      0      0  ]\n",
       "                                                          ]\n",
       "      0      0      0      0      0      0      0      0  ]\n",
       "                                                          ]\n",
       "      0      0      0      0      0      0      0      0  ]\n",
       "                                                          ]\n",
       "      0      0    w_1,3    0      0      0      0      0  ]\n",
       "                                                          ]\n",
       "      0      0      0    w_1,3    0      0      0      0  ]\n",
       "                                                          ]\n",
       "      0      0      0      0    w_1,3    0      0      0  ]\n",
       "                                                          ]\n",
       ",2    0      0      0      0      0    w_1,3    0      0  ]\n",
       "                                                          ]\n",
       "    w_1,2    0      0      0      0      0    w_1,3    0  ]\n",
       "                                                          ]\n",
       "      0    w_1,2    0      0      0      0      0    w_1,3]"
      ]
     },
     "execution_count": 820,
     "metadata": {},
     "output_type": "execute_result"
    }
   ],
   "source": [
    "Matrix.vstack(singleEl(xvars,fvars(weightsAndVars[1])[1]),\n",
    "    Matrix([multiElW(xvars, Matrix(var)[:,0], Matrix(var)[:,0][1], wvars[1]) for var in varsList]))"
   ]
  },
  {
   "cell_type": "code",
   "execution_count": 528,
   "metadata": {
    "run_control": {
     "marked": true
    }
   },
   "outputs": [],
   "source": [
    "W = [None]*4\n",
    "W = [MatrixSymbol(s, k, k) for s in ['W_{x}'.format(x=x) for x in range(4)]]"
   ]
  },
  {
   "cell_type": "markdown",
   "metadata": {},
   "source": [
    "### if 4 countries.... "
   ]
  },
  {
   "cell_type": "code",
   "execution_count": 668,
   "metadata": {
    "ExecuteTime": {
     "end_time": "2018-02-03T23:10:18.469614Z",
     "start_time": "2018-02-03T23:10:16.091464Z"
    }
   },
   "outputs": [
    {
     "data": {
      "image/png": "[encoded data removed]",
      "text/latex": [
       "$$w_{0}^{2} + w^{(t)}_{0, 1} w^{(t)}_{1, 0} + w^{(t)}_{0, 2} w^{(t)}_{2, 0} + w^{(t)}_{0, 3} w^{(t)}_{3, 0}$$"
      ],
      "text/plain": [
       "   2                                                            \n",
       "w_0  + w^(t)_01*w^(t)_10 + w^(t)_02*w^(t)_20 + w^(t)_03*w^(t)_30"
      ]
     },
     "execution_count": 668,
     "metadata": {},
     "output_type": "execute_result"
    }
   ],
   "source": [
    "\n",
    "\n",
    "W = []*4\n",
    "W = [MatrixSymbol(s, 4, 4) for s in ['W_{x}'.format(x=x) for x in range(4)]]\n",
    "\n",
    "\n",
    "\n",
    "G = BlockMatrix([[W0], [W1],[W2], [W3]])\n",
    "\n",
    "bob = tradeWeights**2\n",
    "\n",
    "bob.as_explicit()[0,0].subs(tradeWeights[0,0], Symbol('w_0'))\n"
   ]
  },
  {
   "cell_type": "code",
   "execution_count": 276,
   "metadata": {},
   "outputs": [
    {
     "data": {
      "image/png": "[encoded data removed]",
      "text/latex": [
       "$$\\left[\\begin{matrix}y_{0t}\\\\p_{0t}\\\\q_{0t}\\\\e_{0t}\\\\\\rho_{0t}\\\\y^{*}_{0t}\\\\p^{*}_{0t}\\\\q^{*}_{0t}\\\\e^{*}_{0t}\\\\\\rho^{*}_{0t}\\\\m^{*}_{0t}\\end{matrix}\\right]$$"
      ],
      "text/plain": [
       "[  y_0t  ]\n",
       "[        ]\n",
       "[  p_0t  ]\n",
       "[        ]\n",
       "[  q_0t  ]\n",
       "[        ]\n",
       "[  e_0t  ]\n",
       "[        ]\n",
       "[ rho_0t ]\n",
       "[        ]\n",
       "[ y_0t^* ]\n",
       "[        ]\n",
       "[ p_0t^* ]\n",
       "[        ]\n",
       "[ q_0t^* ]\n",
       "[        ]\n",
       "[ e_0t^* ]\n",
       "[        ]\n",
       "[rho_0t^*]\n",
       "[        ]\n",
       "[ m_0t^* ]"
      ]
     },
     "execution_count": 276,
     "metadata": {},
     "output_type": "execute_result"
    }
   ],
   "source": [
    "z[0][0].values = Matrix.vstack(x[0,0].values, xs[0,0].values)\n",
    "z[0][0].values"
   ]
  },
  {
   "cell_type": "code",
   "execution_count": 30,
   "metadata": {
    "ExecuteTime": {
     "end_time": "2018-02-03T22:48:55.499520Z",
     "start_time": "2018-02-03T22:48:53.838760Z"
    }
   },
   "outputs": [
    {
     "data": {
      "image/png": "[encoded data removed]",
      "text/latex": [
       "$$\\left[\\begin{matrix}W_{0}\\\\W_{1}\\\\W_{2}\\\\W_{3}\\end{matrix}\\right]$$"
      ],
      "text/plain": [
       "[W_0]\n",
       "[   ]\n",
       "[W_1]\n",
       "[   ]\n",
       "[W_2]\n",
       "[   ]\n",
       "[W_3]"
      ]
     },
     "execution_count": 30,
     "metadata": {},
     "output_type": "execute_result"
    }
   ],
   "source": [
    "\n",
    "G.blocks[0]\n",
    "\n",
    "G"
   ]
  },
  {
   "cell_type": "markdown",
   "metadata": {},
   "source": [
    "# Data"
   ]
  },
  {
   "cell_type": "code",
   "execution_count": 217,
   "metadata": {
    "ExecuteTime": {
     "end_time": "2018-02-03T22:18:54.401858Z",
     "start_time": "2018-02-03T22:18:54.387332Z"
    }
   },
   "outputs": [
    {
     "name": "stdout",
     "output_type": "stream",
     "text": [
      "0\n",
      "1\n",
      "2\n",
      "3\n"
     ]
    }
   ],
   "source": [
    "\n",
    "for bob in range(c):\n",
    "    print(bob)"
   ]
  },
  {
   "cell_type": "code",
   "execution_count": 225,
   "metadata": {},
   "outputs": [
    {
     "data": {
      "image/png": "[encoded data removed]",
      "text/latex": [
       "$$\\left [ \\left [ x_{0t}, \\quad x_{0t-1}\\right ], \\quad \\left [ x_{1t}, \\quad x_{1t-1}\\right ], \\quad \\left [ x_{2t}, \\quad x_{2t-1}\\right ], \\quad \\left [ x_{3t}, \\quad x_{3t-1}\\right ]\\right ]$$"
      ],
      "text/plain": [
       "[[x_0t, x_0t-1], [x_1t, x_1t-1], [x_2t, x_2t-1], [x_3t, x_3t-1]]"
      ]
     },
     "execution_count": 225,
     "metadata": {},
     "output_type": "execute_result"
    }
   ],
   "source": [
    "for cntry in range(c):\n",
    "    x[cntry] = [MatrixSymbol(s, k[cntry], 1) for s in [\"x_{i}t{l}\".format(\n",
    "        i=cntry, l='-{lag}'.format(lag=lag) if lag > 0 else '') for lag in range(lagsD+1)]]\n",
    "x"
   ]
  },
  {
   "cell_type": "code",
   "execution_count": 56,
   "metadata": {},
   "outputs": [
    {
     "name": "stdout",
     "output_type": "stream",
     "text": [
      "0\n",
      "2\n",
      "4\n",
      "6\n"
     ]
    }
   ],
   "source": [
    "i = 0\n",
    "for _ in range(c):\n",
    "    print(i)\n",
    "    i+=2"
   ]
  },
  {
   "cell_type": "code",
   "execution_count": 244,
   "metadata": {},
   "outputs": [],
   "source": [
    "bob = [1,2,3,4,5]\n"
   ]
  },
  {
   "cell_type": "code",
   "execution_count": 759,
   "metadata": {},
   "outputs": [
    {
     "data": {
      "image/png": "[encoded data removed]",
      "text/latex": [
       "$$\\left [ \\left [ 0, \\quad 0, \\quad 0, \\quad 0, \\quad 0, \\quad w_{0,1}, \\quad 0, \\quad 0, \\quad 0, \\quad 0, \\quad 0, \\quad w_{0,2}, \\quad 0, \\quad 0, \\quad 0, \\quad 0, \\quad 0, \\quad w_{0,3}, \\quad 0, \\quad 0, \\quad 0, \\quad 0, \\quad 0\\right ], \\quad \\left [ 0, \\quad 0, \\quad 0, \\quad 0, \\quad 0, \\quad 0, \\quad w_{0,1}, \\quad 0, \\quad 0, \\quad 0, \\quad 0, \\quad 0, \\quad w_{0,2}, \\quad 0, \\quad 0, \\quad 0, \\quad 0, \\quad 0, \\quad w_{0,3}, \\quad 0, \\quad 0, \\quad 0, \\quad 0\\right ], \\quad \\left [ 0, \\quad 0, \\quad 0, \\quad 0, \\quad 0, \\quad 0, \\quad 0, \\quad w_{0,1}, \\quad 0, \\quad 0, \\quad 0, \\quad 0, \\quad 0, \\quad w_{0,2}, \\quad 0, \\quad 0, \\quad 0, \\quad 0, \\quad 0, \\quad w_{0,3}, \\quad 0, \\quad 0, \\quad 0\\right ], \\quad \\left [ 0, \\quad 0, \\quad 0, \\quad 0, \\quad 0, \\quad 0, \\quad 0, \\quad 0, \\quad w_{0,1}, \\quad 0, \\quad 0, \\quad 0, \\quad 0, \\quad 0, \\quad w_{0,2}, \\quad 0, \\quad 0, \\quad 0, \\quad 0, \\quad 0, \\quad w_{0,3}, \\quad 0, \\quad 0\\right ], \\quad \\left [ 0, \\quad 0, \\quad 0, \\quad 0, \\quad 0, \\quad 0, \\quad 0, \\quad 0, \\quad 0, \\quad w_{0,1}, \\quad 0, \\quad 0, \\quad 0, \\quad 0, \\quad 0, \\quad w_{0,2}, \\quad 0, \\quad 0, \\quad 0, \\quad 0, \\quad 0, \\quad w_{0,3}, \\quad 0\\right ], \\quad \\left [ 0, \\quad 0, \\quad 0, \\quad 0, \\quad 0, \\quad 0, \\quad 0, \\quad 0, \\quad 0, \\quad 0, \\quad w_{0,1}, \\quad 0, \\quad 0, \\quad 0, \\quad 0, \\quad 0, \\quad w_{0,2}, \\quad 0, \\quad 0, \\quad 0, \\quad 0, \\quad 0, \\quad w_{0,3}\\right ]\\right ]$$"
      ],
      "text/plain": [
       "[[0, 0, 0, 0, 0, w_0,1, 0, 0, 0, 0, 0, w_0,2, 0, 0, 0, 0, 0, w_0,3, 0, 0, 0, 0\n",
       ", 0], [0, 0, 0, 0, 0, 0, w_0,1, 0, 0, 0, 0, 0, w_0,2, 0, 0, 0, 0, 0, w_0,3, 0,\n",
       " 0, 0, 0], [0, 0, 0, 0, 0, 0, 0, w_0,1, 0, 0, 0, 0, 0, w_0,2, 0, 0, 0, 0, 0, w\n",
       "_0,3, 0, 0, 0], [0, 0, 0, 0, 0, 0, 0, 0, w_0,1, 0, 0, 0, 0, 0, w_0,2, 0, 0, 0,\n",
       " 0, 0, w_0,3, 0, 0], [0, 0, 0, 0, 0, 0, 0, 0, 0, w_0,1, 0, 0, 0, 0, 0, w_0,2, \n",
       "0, 0, 0, 0, 0, w_0,3, 0], [0, 0, 0, 0, 0, 0, 0, 0, 0, 0, w_0,1, 0, 0, 0, 0, 0,\n",
       " w_0,2, 0, 0, 0, 0, 0, w_0,3]]"
      ]
     },
     "execution_count": 759,
     "metadata": {},
     "output_type": "execute_result"
    }
   ],
   "source": [
    "varsList = [y, p, q, e, rho, m]\n",
    "vecVal(x[:,0])\n",
    "Matrix(y)[:,0][0] in vecVal(x[:,0])\n",
    "[multiElW(xvars, Matrix(var)[:,0], Matrix(var)[:,0][0], wvars) for var in varsList]"
   ]
  },
  {
   "cell_type": "code",
   "execution_count": 559,
   "metadata": {},
   "outputs": [
    {
     "data": {
      "image/png": "[encoded data removed]",
      "text/latex": [
       "$$\\left[\\begin{matrix}y_{0t}\\\\y_{1t}\\\\y_{2t}\\\\y_{3t}\\end{matrix}\\right]$$"
      ],
      "text/plain": [
       "[y_0t]\n",
       "[    ]\n",
       "[y_1t]\n",
       "[    ]\n",
       "[y_2t]\n",
       "[    ]\n",
       "[y_3t]"
      ]
     },
     "execution_count": 559,
     "metadata": {},
     "output_type": "execute_result"
    }
   ],
   "source": [
    "Matrix(y)[:,0]"
   ]
  },
  {
   "cell_type": "code",
   "execution_count": 662,
   "metadata": {},
   "outputs": [
    {
     "data": {
      "image/png": "[encoded data removed]",
      "text/latex": [
       "$$\\left [ \\left[\\begin{matrix}y_{0t}\\\\p_{0t}\\\\q_{0t}\\\\e_{0t}\\\\\\rho_{0t}\\end{matrix}\\right], \\quad \\left[\\begin{matrix}y_{1t}\\\\p_{1t}\\\\q_{1t}\\\\e_{1t}\\\\\\rho_{1t}\\\\m_{1t}\\end{matrix}\\right], \\quad \\left[\\begin{matrix}y_{2t}\\\\p_{2t}\\\\q_{2t}\\\\e_{2t}\\\\\\rho_{2t}\\\\m_{2t}\\end{matrix}\\right], \\quad \\left[\\begin{matrix}y_{3t}\\\\p_{3t}\\\\q_{3t}\\\\e_{3t}\\\\\\rho_{3t}\\\\m_{3t}\\end{matrix}\\right]\\right ]$$"
      ],
      "text/plain": [
       "           [ y_1t ]  [ y_2t ]  [ y_3t ] \n",
       " [ y_0t ]  [      ]  [      ]  [      ] \n",
       " [      ]  [ p_1t ]  [ p_2t ]  [ p_3t ] \n",
       " [ p_0t ]  [      ]  [      ]  [      ] \n",
       " [      ]  [ q_1t ]  [ q_2t ]  [ q_3t ] \n",
       "[[ q_0t ], [      ], [      ], [      ]]\n",
       " [      ]  [ e_1t ]  [ e_2t ]  [ e_3t ] \n",
       " [ e_0t ]  [      ]  [      ]  [      ] \n",
       " [      ]  [rho_1t]  [rho_2t]  [rho_3t] \n",
       " [rho_0t]  [      ]  [      ]  [      ] \n",
       "           [ m_1t ]  [ m_2t ]  [ m_3t ] "
      ]
     },
     "execution_count": 662,
     "metadata": {},
     "output_type": "execute_result"
    }
   ],
   "source": [
    "bob = list(map(lambda x: x.values, x[:,0]))\n",
    "bob"
   ]
  },
  {
   "cell_type": "code",
   "execution_count": 687,
   "metadata": {},
   "outputs": [
    {
     "data": {
      "image/png": "[encoded data removed]",
      "text/latex": [
       "$$\\left[\\begin{matrix}w_{0,0}\\\\w_{0,1}\\\\w_{0,2}\\\\w_{0,3}\\end{matrix}\\right]$$"
      ],
      "text/plain": [
       "[w_0,0]\n",
       "[     ]\n",
       "[w_0,1]\n",
       "[     ]\n",
       "[w_0,2]\n",
       "[     ]\n",
       "[w_0,3]"
      ]
     },
     "execution_count": 687,
     "metadata": {},
     "output_type": "execute_result"
    }
   ],
   "source": [
    "tradeWeights.values = Matrix([[Symbol('w_{i},{j}'.format(i=i,j=j)) for i in range(c)] for j in range(c)])\n",
    "tradeWeights.values[:,0]"
   ]
  },
  {
   "cell_type": "code",
   "execution_count": 628,
   "metadata": {
    "run_control": {
     "marked": true
    }
   },
   "outputs": [
    {
     "data": {
      "image/png": "[encoded data removed]",
      "text/latex": [
       "$$y_{0t}$$"
      ],
      "text/plain": [
       "y_0t"
      ]
     },
     "execution_count": 628,
     "metadata": {},
     "output_type": "execute_result"
    }
   ],
   "source": [
    "y[0][0]"
   ]
  },
  {
   "cell_type": "code",
   "execution_count": 647,
   "metadata": {},
   "outputs": [],
   "source": [
    "blah = lambda x, y: list(map(lambda x, y=y: y in x, x)).index(True)"
   ]
  },
  {
   "cell_type": "code",
   "execution_count": 650,
   "metadata": {},
   "outputs": [
    {
     "data": {
      "image/png": "[encoded data removed]",
      "text/latex": [
       "$$1$$"
      ],
      "text/plain": [
       "1"
      ]
     },
     "execution_count": 650,
     "metadata": {},
     "output_type": "execute_result"
    }
   ],
   "source": [
    "blah(bob,y[1][0])"
   ]
  },
  {
   "cell_type": "code",
   "execution_count": 661,
   "metadata": {},
   "outputs": [
    {
     "data": {
      "image/png": "[encoded data removed]",
      "text/latex": [
       "$$\\left [ y_{1t}, \\quad y_{2t}, \\quad y_{3t}\\right ]$$"
      ],
      "text/plain": [
       "[y_1t, y_2t, y_3t]"
      ]
     },
     "execution_count": 661,
     "metadata": {},
     "output_type": "execute_result"
    }
   ],
   "source": [
    "bill = multiEl(vecVal(x[:,0]), Matrix(y)[:,0], Matrix(y)[:,0][0])\n",
    "list(filter(lambda x: x != 0, bill))"
   ]
  },
  {
   "cell_type": "code",
   "execution_count": 789,
   "metadata": {},
   "outputs": [
    {
     "data": {
      "image/png": "[encoded data removed]",
      "text/latex": [
       "$$\\left [ \\left [ \\left[\\begin{matrix}y_{0t}\\\\p_{0t}\\\\q_{0t}\\\\e_{0t}\\\\\\rho_{0t}\\end{matrix}\\right], \\quad \\left[\\begin{matrix}w_{1,0}\\\\w_{1,0}\\\\w_{1,0}\\\\w_{1,0}\\\\w_{1,0}\\end{matrix}\\right]\\right ], \\quad \\left [ \\left[\\begin{matrix}y_{1t}\\\\p_{1t}\\\\q_{1t}\\\\e_{1t}\\\\\\rho_{1t}\\\\m_{1t}\\end{matrix}\\right], \\quad \\left[\\begin{matrix}w_{1,1}\\\\w_{1,1}\\\\w_{1,1}\\\\w_{1,1}\\\\w_{1,1}\\\\w_{1,1}\\end{matrix}\\right]\\right ], \\quad \\left [ \\left[\\begin{matrix}y_{2t}\\\\p_{2t}\\\\q_{2t}\\\\e_{2t}\\\\\\rho_{2t}\\\\m_{2t}\\end{matrix}\\right], \\quad \\left[\\begin{matrix}w_{1,2}\\\\w_{1,2}\\\\w_{1,2}\\\\w_{1,2}\\\\w_{1,2}\\\\w_{1,2}\\end{matrix}\\right]\\right ], \\quad \\left [ \\left[\\begin{matrix}y_{3t}\\\\p_{3t}\\\\q_{3t}\\\\e_{3t}\\\\\\rho_{3t}\\\\m_{3t}\\end{matrix}\\right], \\quad \\left[\\begin{matrix}w_{1,3}\\\\w_{1,3}\\\\w_{1,3}\\\\w_{1,3}\\\\w_{1,3}\\\\w_{1,3}\\end{matrix}\\right]\\right ]\\right ]$$"
      ],
      "text/plain": [
       "                       [ y_1t ]  [w_1,1]    [ y_2t ]  [w_1,2]    [ y_3t ]  [w_\n",
       "  [ y_0t ]  [w_1,0]    [      ]  [     ]    [      ]  [     ]    [      ]  [  \n",
       "  [      ]  [     ]    [ p_1t ]  [w_1,1]    [ p_2t ]  [w_1,2]    [ p_3t ]  [w_\n",
       "  [ p_0t ]  [w_1,0]    [      ]  [     ]    [      ]  [     ]    [      ]  [  \n",
       "  [      ]  [     ]    [ q_1t ]  [w_1,1]    [ q_2t ]  [w_1,2]    [ q_3t ]  [w_\n",
       "[[[ q_0t ], [w_1,0]], [[      ], [     ]], [[      ], [     ]], [[      ], [  \n",
       "  [      ]  [     ]    [ e_1t ]  [w_1,1]    [ e_2t ]  [w_1,2]    [ e_3t ]  [w_\n",
       "  [ e_0t ]  [w_1,0]    [      ]  [     ]    [      ]  [     ]    [      ]  [  \n",
       "  [      ]  [     ]    [rho_1t]  [w_1,1]    [rho_2t]  [w_1,2]    [rho_3t]  [w_\n",
       "  [rho_0t]  [w_1,0]    [      ]  [     ]    [      ]  [     ]    [      ]  [  \n",
       "                       [ m_1t ]  [w_1,1]    [ m_2t ]  [w_1,2]    [ m_3t ]  [w_\n",
       "\n",
       "1,3]  \n",
       "   ]  \n",
       "1,3]  \n",
       "   ]  \n",
       "1,3]  \n",
       "   ]]]\n",
       "1,3]  \n",
       "   ]  \n",
       "1,3]  \n",
       "   ]  \n",
       "1,3]  "
      ]
     },
     "execution_count": 789,
     "metadata": {},
     "output_type": "execute_result"
    }
   ],
   "source": [
    "\n",
    "weightsAndVars[1]"
   ]
  },
  {
   "cell_type": "code",
   "execution_count": 819,
   "metadata": {},
   "outputs": [
    {
     "data": {
      "image/png": "[encoded data removed]",
      "text/latex": [
       "$$\\left [ \\left[\\begin{matrix}w_{0,0}\\\\w_{0,0}\\\\w_{0,0}\\\\w_{0,0}\\\\w_{0,0}\\\\w_{0,1}\\\\w_{0,1}\\\\w_{0,1}\\\\w_{0,1}\\\\w_{0,1}\\\\w_{0,1}\\\\w_{0,2}\\\\w_{0,2}\\\\w_{0,2}\\\\w_{0,2}\\\\w_{0,2}\\\\w_{0,2}\\\\w_{0,3}\\\\w_{0,3}\\\\w_{0,3}\\\\w_{0,3}\\\\w_{0,3}\\\\w_{0,3}\\end{matrix}\\right], \\quad \\left[\\begin{matrix}w_{1,0}\\\\w_{1,0}\\\\w_{1,0}\\\\w_{1,0}\\\\w_{1,0}\\\\w_{1,1}\\\\w_{1,1}\\\\w_{1,1}\\\\w_{1,1}\\\\w_{1,1}\\\\w_{1,1}\\\\w_{1,2}\\\\w_{1,2}\\\\w_{1,2}\\\\w_{1,2}\\\\w_{1,2}\\\\w_{1,2}\\\\w_{1,3}\\\\w_{1,3}\\\\w_{1,3}\\\\w_{1,3}\\\\w_{1,3}\\\\w_{1,3}\\end{matrix}\\right], \\quad \\left[\\begin{matrix}w_{2,0}\\\\w_{2,0}\\\\w_{2,0}\\\\w_{2,0}\\\\w_{2,0}\\\\w_{2,1}\\\\w_{2,1}\\\\w_{2,1}\\\\w_{2,1}\\\\w_{2,1}\\\\w_{2,1}\\\\w_{2,2}\\\\w_{2,2}\\\\w_{2,2}\\\\w_{2,2}\\\\w_{2,2}\\\\w_{2,2}\\\\w_{2,3}\\\\w_{2,3}\\\\w_{2,3}\\\\w_{2,3}\\\\w_{2,3}\\\\w_{2,3}\\end{matrix}\\right], \\quad \\left[\\begin{matrix}w_{3,0}\\\\w_{3,0}\\\\w_{3,0}\\\\w_{3,0}\\\\w_{3,0}\\\\w_{3,1}\\\\w_{3,1}\\\\w_{3,1}\\\\w_{3,1}\\\\w_{3,1}\\\\w_{3,1}\\\\w_{3,2}\\\\w_{3,2}\\\\w_{3,2}\\\\w_{3,2}\\\\w_{3,2}\\\\w_{3,2}\\\\w_{3,3}\\\\w_{3,3}\\\\w_{3,3}\\\\w_{3,3}\\\\w_{3,3}\\\\w_{3,3}\\end{matrix}\\right]\\right ]$$"
      ],
      "text/plain": [
       " [w_0,0]  [w_1,0]  [w_2,0]  [w_3,0] \n",
       " [     ]  [     ]  [     ]  [     ] \n",
       " [w_0,0]  [w_1,0]  [w_2,0]  [w_3,0] \n",
       " [     ]  [     ]  [     ]  [     ] \n",
       " [w_0,0]  [w_1,0]  [w_2,0]  [w_3,0] \n",
       " [     ]  [     ]  [     ]  [     ] \n",
       " [w_0,0]  [w_1,0]  [w_2,0]  [w_3,0] \n",
       " [     ]  [     ]  [     ]  [     ] \n",
       " [w_0,0]  [w_1,0]  [w_2,0]  [w_3,0] \n",
       " [     ]  [     ]  [     ]  [     ] \n",
       " [w_0,1]  [w_1,1]  [w_2,1]  [w_3,1] \n",
       " [     ]  [     ]  [     ]  [     ] \n",
       " [w_0,1]  [w_1,1]  [w_2,1]  [w_3,1] \n",
       " [     ]  [     ]  [     ]  [     ] \n",
       " [w_0,1]  [w_1,1]  [w_2,1]  [w_3,1] \n",
       " [     ]  [     ]  [     ]  [     ] \n",
       " [w_0,1]  [w_1,1]  [w_2,1]  [w_3,1] \n",
       " [     ]  [     ]  [     ]  [     ] \n",
       " [w_0,1]  [w_1,1]  [w_2,1]  [w_3,1] \n",
       " [     ]  [     ]  [     ]  [     ] \n",
       " [w_0,1]  [w_1,1]  [w_2,1]  [w_3,1] \n",
       " [     ]  [     ]  [     ]  [     ] \n",
       "[[w_0,2], [w_1,2], [w_2,2], [w_3,2]]\n",
       " [     ]  [     ]  [     ]  [     ] \n",
       " [w_0,2]  [w_1,2]  [w_2,2]  [w_3,2] \n",
       " [     ]  [     ]  [     ]  [     ] \n",
       " [w_0,2]  [w_1,2]  [w_2,2]  [w_3,2] \n",
       " [     ]  [     ]  [     ]  [     ] \n",
       " [w_0,2]  [w_1,2]  [w_2,2]  [w_3,2] \n",
       " [     ]  [     ]  [     ]  [     ] \n",
       " [w_0,2]  [w_1,2]  [w_2,2]  [w_3,2] \n",
       " [     ]  [     ]  [     ]  [     ] \n",
       " [w_0,2]  [w_1,2]  [w_2,2]  [w_3,2] \n",
       " [     ]  [     ]  [     ]  [     ] \n",
       " [w_0,3]  [w_1,3]  [w_2,3]  [w_3,3] \n",
       " [     ]  [     ]  [     ]  [     ] \n",
       " [w_0,3]  [w_1,3]  [w_2,3]  [w_3,3] \n",
       " [     ]  [     ]  [     ]  [     ] \n",
       " [w_0,3]  [w_1,3]  [w_2,3]  [w_3,3] \n",
       " [     ]  [     ]  [     ]  [     ] \n",
       " [w_0,3]  [w_1,3]  [w_2,3]  [w_3,3] \n",
       " [     ]  [     ]  [     ]  [     ] \n",
       " [w_0,3]  [w_1,3]  [w_2,3]  [w_3,3] \n",
       " [     ]  [     ]  [     ]  [     ] \n",
       " [w_0,3]  [w_1,3]  [w_2,3]  [w_3,3] "
      ]
     },
     "execution_count": 819,
     "metadata": {},
     "output_type": "execute_result"
    }
   ],
   "source": [
    "wvars"
   ]
  },
  {
   "cell_type": "code",
   "execution_count": 764,
   "metadata": {},
   "outputs": [
    {
     "data": {
      "image/png": "[encoded data removed]",
      "text/latex": [
       "$$\\left[\\begin{matrix}y_{0t}\\\\p_{0t}\\\\q_{0t}\\\\e_{0t}\\\\\\rho_{0t}\\end{matrix}\\right]$$"
      ],
      "text/plain": [
       "[ y_0t ]\n",
       "[      ]\n",
       "[ p_0t ]\n",
       "[      ]\n",
       "[ q_0t ]\n",
       "[      ]\n",
       "[ e_0t ]\n",
       "[      ]\n",
       "[rho_0t]"
      ]
     },
     "execution_count": 764,
     "metadata": {},
     "output_type": "execute_result"
    }
   ],
   "source": [
    "\n",
    "fvars(weightsAndVars[0])[0]"
   ]
  },
  {
   "cell_type": "code",
   "execution_count": 806,
   "metadata": {},
   "outputs": [
    {
     "data": {
      "text/plain": [
       "[None, None, None, None]"
      ]
     },
     "execution_count": 806,
     "metadata": {},
     "output_type": "execute_result"
    }
   ],
   "source": [
    "xvars = Matrix(fvars(weightsAndVars[0]))\n",
    "xvars\n",
    "xvars, wvars = [[None]*c]*2\n",
    "wvars"
   ]
  },
  {
   "cell_type": "code",
   "execution_count": 4,
   "metadata": {
    "ExecuteTime": {
     "end_time": "2018-02-09T17:26:49.034314Z",
     "start_time": "2018-02-09T17:26:32.988959Z"
    }
   },
   "outputs": [],
   "source": [
    "%R install.packages(\"dyn\")"
   ]
  },
  {
   "cell_type": "code",
   "execution_count": null,
   "metadata": {},
   "outputs": [],
   "source": []
  }
 ],
 "metadata": {
  "anaconda-cloud": {},
  "kernelspec": {
   "display_name": "Python [conda root]",
   "language": "python",
   "name": "conda-root-py"
  },
  "language_info": {
   "codemirror_mode": {
    "name": "ipython",
    "version": 3
   },
   "file_extension": ".py",
   "mimetype": "text/x-python",
   "name": "python",
   "nbconvert_exporter": "python",
   "pygments_lexer": "ipython3",
   "version": "3.6.3"
  },
  "toc": {
   "nav_menu": {},
   "number_sections": true,
   "sideBar": true,
   "skip_h1_title": false,
   "toc_cell": true,
   "toc_position": {},
   "toc_section_display": "block",
   "toc_window_display": true
  },
  "varInspector": {
   "cols": {
    "lenName": 16,
    "lenType": 16,
    "lenVar": 40
   },
   "kernels_config": {
    "python": {
     "delete_cmd_postfix": "",
     "delete_cmd_prefix": "del ",
     "library": "var_list.py",
     "varRefreshCmd": "print(var_dic_list())"
    },
    "r": {
     "delete_cmd_postfix": ") ",
     "delete_cmd_prefix": "rm(",
     "library": "var_list.r",
     "varRefreshCmd": "cat(var_dic_list()) "
    }
   },
   "types_to_exclude": [
    "module",
    "function",
    "builtin_function_or_method",
    "instance",
    "_Feature"
   ],
   "window_display": false
  }
 },
 "nbformat": 4,
 "nbformat_minor": 2
}
