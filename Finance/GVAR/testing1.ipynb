{
 "cells": [
  {
   "cell_type": "markdown",
   "metadata": {
    "toc": true
   },
   "source": [
    "<h1>Table of Contents<span class=\"tocSkip\"></span></h1>\n",
    "<div class=\"toc\" style=\"margin-top: 1em;\"><ul class=\"toc-item\"><li><span><a href=\"#Initialization\" data-toc-modified-id=\"Initialization-1\"><span class=\"toc-item-num\">1&nbsp;&nbsp;</span>Initialization</a></span></li><li><span><a href=\"#Data\" data-toc-modified-id=\"Data-2\"><span class=\"toc-item-num\">2&nbsp;&nbsp;</span>Data</a></span><ul class=\"toc-item\"><li><span><a href=\"#Raw-Data\" data-toc-modified-id=\"Raw-Data-2.1\"><span class=\"toc-item-num\">2.1&nbsp;&nbsp;</span>Raw Data</a></span></li><li><span><a href=\"#Construct-Trade-Weight-Matrix\" data-toc-modified-id=\"Construct-Trade-Weight-Matrix-2.2\"><span class=\"toc-item-num\">2.2&nbsp;&nbsp;</span>Construct Trade Weight Matrix</a></span></li></ul></li></ul></div>"
   ]
  },
  {
   "cell_type": "markdown",
   "metadata": {},
   "source": [
    "# Initialization"
   ]
  },
  {
   "cell_type": "code",
   "execution_count": 1,
   "metadata": {
    "ExecuteTime": {
     "end_time": "2018-02-12T10:43:30.428876Z",
     "start_time": "2018-02-12T10:43:19.041975Z"
    }
   },
   "outputs": [],
   "source": [
    "import pandas as pd, numpy as np, dask.dataframe as ddf, seaborn as sns, pickle, pyflux as pf\n",
    "import quandl\n",
    "import sys, os, socket, string\n",
    "from dask import delayed\n",
    "from itertools import permutations, product\n",
    "from functools import reduce\n",
    "import pandas_datareader as pdr\n",
    "import xlrd\n",
    "\n",
    "scriptDir = os.path.dirname(os.path.realpath(sys.argv[0]))   # get script directory\n",
    "try: \n",
    "    genDir = \"C:/Users/benmo/OneDrive/GitHub/DataPlayground\" #get general functions path\n",
    "    os.chdir(genDir)\n",
    "except: \n",
    "    genDir = \"D:/benmo/OneDrive/GitHub/DataPlayground\"\n",
    "    os.chdir(genDir)\n",
    "\n",
    "os.chdir(genDir)\n",
    "\n",
    "from General import * # import custom 'general' functions\n",
    "from DataEther import * # import custom 'data' functions\n",
    "\n",
    "os.chdir(scriptDir)"
   ]
  },
  {
   "cell_type": "code",
   "execution_count": 2,
   "metadata": {
    "ExecuteTime": {
     "end_time": "2018-02-12T10:43:32.394227Z",
     "start_time": "2018-02-12T10:43:30.428876Z"
    }
   },
   "outputs": [],
   "source": [
    "from sympy.interactive.printing import init_printing\n",
    "init_printing(use_unicode=False, wrap_line=True, no_global=True)\n",
    "from sympy import *"
   ]
  },
  {
   "cell_type": "code",
   "execution_count": 3,
   "metadata": {
    "ExecuteTime": {
     "end_time": "2018-02-12T10:43:33.262028Z",
     "start_time": "2018-02-12T10:43:32.394227Z"
    }
   },
   "outputs": [],
   "source": [
    "%load_ext rpy2.ipython"
   ]
  },
  {
   "cell_type": "code",
   "execution_count": 4,
   "metadata": {
    "ExecuteTime": {
     "end_time": "2018-02-12T10:43:35.962271Z",
     "start_time": "2018-02-12T10:43:33.268000Z"
    }
   },
   "outputs": [],
   "source": [
    "fpath = MyComp.financePath  #path to financial econ folder\n",
    "\n",
    "cntryBook = xlrd.open_workbook(fpath + \"/data/gvar/Country Data (1979Q1-2011Q2).xlsx\")\n",
    "sheets = cntryBook.sheet_names()\n",
    "\n",
    "data = pd.DataFrame([])\n",
    "idx = pd.IndexSlice"
   ]
  },
  {
   "cell_type": "markdown",
   "metadata": {},
   "source": [
    "# Data"
   ]
  },
  {
   "cell_type": "code",
   "execution_count": null,
   "metadata": {},
   "outputs": [],
   "source": []
  },
  {
   "cell_type": "markdown",
   "metadata": {},
   "source": [
    "## Raw Data"
   ]
  },
  {
   "cell_type": "code",
   "execution_count": 5,
   "metadata": {
    "ExecuteTime": {
     "end_time": "2018-02-12T10:44:59.653183Z",
     "start_time": "2018-02-12T10:43:35.968752Z"
    }
   },
   "outputs": [],
   "source": [
    "for sheet in sheets:\n",
    "    temp = pd.read_excel(fpath + \"/data/gvar/Country Data (1979Q1-2011Q2).xlsx\", sheet_name=sheet)\n",
    "    temp['Country'] = sheet\n",
    "    temp.set_index([temp['Country'], temp['date']], inplace=True)\n",
    "    data = data.append(temp)\n",
    "    \n",
    "data = data.sort_index()\n",
    "\n",
    "tradeMatrix = pd.read_excel(fpath + \"/data/gvar/Trade Matrices (1980-2010).xls\")\n",
    "cntryCodes = pd.read_excel(fpath + \"/data/gvar/Country Codes.xls\", index_col='Country')"
   ]
  },
  {
   "cell_type": "markdown",
   "metadata": {},
   "source": [
    "## Construct Trade Weight Matrix "
   ]
  },
  {
   "cell_type": "code",
   "execution_count": null,
   "metadata": {
    "ExecuteTime": {
     "start_time": "2018-02-12T17:43:27.678Z"
    }
   },
   "outputs": [],
   "source": [
    "tradeMatrix['country_primary'] = tradeMatrix['country_primary'].apply(lambda x, code=cntryCodes: \n",
    "                                     code[code.values == x].index[0])\n",
    "\n",
    "countries = tradeMatrix[tradeMatrix.year == 1980]['country_primary'].tolist()\n",
    "tradeMatrix.rename(columns=lambda x, names=cntryCodes: \n",
    "                   names[names.values == int(x[1:])].index[0] if [x[1:]] in names\n",
    "                   .values.astype(str).tolist() else x, \n",
    "                   inplace=True)\n",
    "\n",
    "\n",
    "\n",
    "W = tradeMatrix.set_index([tradeMatrix.country_primary, \n",
    "                           pd.to_datetime(tradeMatrix.astype(str).year)])"
   ]
  },
  {
   "cell_type": "markdown",
   "metadata": {},
   "source": [
    "## fgbfdhdf"
   ]
  },
  {
   "cell_type": "code",
   "execution_count": null,
   "metadata": {},
   "outputs": [],
   "source": []
  }
 ],
 "metadata": {
  "anaconda-cloud": {},
  "kernelspec": {
   "display_name": "Python [conda root]",
   "language": "python",
   "name": "conda-root-py"
  },
  "language_info": {
   "codemirror_mode": {
    "name": "ipython",
    "version": 3
   },
   "file_extension": ".py",
   "mimetype": "text/x-python",
   "name": "python",
   "nbconvert_exporter": "python",
   "pygments_lexer": "ipython3",
   "version": "3.5.2"
  },
  "toc": {
   "nav_menu": {},
   "number_sections": true,
   "sideBar": true,
   "skip_h1_title": false,
   "toc_cell": true,
   "toc_position": {
    "height": "543px",
    "left": "0px",
    "right": "auto",
    "top": "136px",
    "width": "147px"
   },
   "toc_section_display": "block",
   "toc_window_display": true
  },
  "varInspector": {
   "cols": {
    "lenName": 16,
    "lenType": 16,
    "lenVar": 40
   },
   "kernels_config": {
    "python": {
     "delete_cmd_postfix": "",
     "delete_cmd_prefix": "del ",
     "library": "var_list.py",
     "varRefreshCmd": "print(var_dic_list())"
    },
    "r": {
     "delete_cmd_postfix": ") ",
     "delete_cmd_prefix": "rm(",
     "library": "var_list.r",
     "varRefreshCmd": "cat(var_dic_list()) "
    }
   },
   "position": {
    "height": "145px",
    "left": "1026.36px",
    "right": "20px",
    "top": "121px",
    "width": "350px"
   },
   "types_to_exclude": [
    "module",
    "function",
    "builtin_function_or_method",
    "instance",
    "_Feature"
   ],
   "window_display": true
  }
 },
 "nbformat": 4,
 "nbformat_minor": 2
}
