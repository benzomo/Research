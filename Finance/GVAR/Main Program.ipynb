{
 "cells": [
  {
   "cell_type": "markdown",
   "metadata": {
    "toc": true
   },
   "source": [
    "<h1>Table of Contents<span class=\"tocSkip\"></span></h1>\n",
    "<div class=\"toc\" style=\"margin-top: 1em;\"><ul class=\"toc-item\"><li><span><a href=\"#Initialization\" data-toc-modified-id=\"Initialization-1\"><span class=\"toc-item-num\">1&nbsp;&nbsp;</span>Initialization</a></span></li><li><span><a href=\"#Data\" data-toc-modified-id=\"Data-2\"><span class=\"toc-item-num\">2&nbsp;&nbsp;</span>Data</a></span><ul class=\"toc-item\"><li><span><a href=\"#Raw-Data\" data-toc-modified-id=\"Raw-Data-2.1\"><span class=\"toc-item-num\">2.1&nbsp;&nbsp;</span>Raw Data</a></span><ul class=\"toc-item\"><li><span><a href=\"#Create-Regions\" data-toc-modified-id=\"Create-Regions-2.1.1\"><span class=\"toc-item-num\">2.1.1&nbsp;&nbsp;</span>Create Regions</a></span></li><li><span><a href=\"#Create-(Domestic)-Variables\" data-toc-modified-id=\"Create-(Domestic)-Variables-2.1.2\"><span class=\"toc-item-num\">2.1.2&nbsp;&nbsp;</span>Create (Domestic) Variables</a></span></li></ul></li><li><span><a href=\"#Construct-Trade-Weight-Matrix\" data-toc-modified-id=\"Construct-Trade-Weight-Matrix-2.2\"><span class=\"toc-item-num\">2.2&nbsp;&nbsp;</span>Construct Trade Weight Matrix</a></span><ul class=\"toc-item\"><li><span><a href=\"#Create-Country-Specific-(Starred*)-Variables\" data-toc-modified-id=\"Create-Country-Specific-(Starred*)-Variables-2.2.1\"><span class=\"toc-item-num\">2.2.1&nbsp;&nbsp;</span>Create Country Specific (Starred*) Variables</a></span></li><li><span><a href=\"#Add-Regions\" data-toc-modified-id=\"Add-Regions-2.2.2\"><span class=\"toc-item-num\">2.2.2&nbsp;&nbsp;</span>Add Regions</a></span></li></ul></li></ul></li><li><span><a href=\"#Analysis\" data-toc-modified-id=\"Analysis-3\"><span class=\"toc-item-num\">3&nbsp;&nbsp;</span>Analysis</a></span><ul class=\"toc-item\"><li><span><a href=\"#Error-Correction\" data-toc-modified-id=\"Error-Correction-3.1\"><span class=\"toc-item-num\">3.1&nbsp;&nbsp;</span>Error Correction</a></span></li></ul></li><li><span><a href=\"#Testing\" data-toc-modified-id=\"Testing-4\"><span class=\"toc-item-num\">4&nbsp;&nbsp;</span>Testing</a></span></li></ul></div>"
   ]
  },
  {
   "cell_type": "markdown",
   "metadata": {},
   "source": [
    "# Initialization"
   ]
  },
  {
   "cell_type": "code",
   "execution_count": 1,
   "metadata": {
    "ExecuteTime": {
     "end_time": "2018-02-16T11:32:55.080658Z",
     "start_time": "2018-02-16T11:31:56.611502Z"
    }
   },
   "outputs": [],
   "source": [
    "import pandas as pd, numpy as np, dask.dataframe as ddf, seaborn as sns, pickle, pyflux as pf\n",
    "import quandl\n",
    "import sys, os, socket, string\n",
    "from dask import delayed\n",
    "from itertools import permutations, product\n",
    "from functools import reduce\n",
    "import pandas_datareader as pdr\n",
    "import xlrd\n",
    "\n",
    "scriptDir = os.path.dirname(os.path.realpath(sys.argv[0]))   # get script directory\n",
    "try: \n",
    "    genDir = \"C:/Users/benmo/OneDrive/GitHub/DataPlayground\" #get general functions path\n",
    "    os.chdir(genDir)\n",
    "except: \n",
    "    genDir = \"D:/benmo/OneDrive/GitHub/DataPlayground\"\n",
    "    os.chdir(genDir)\n",
    "\n",
    "os.chdir(genDir)\n",
    "\n",
    "from General import * # import custom 'general' functions\n",
    "from DataEther import * # import custom 'data' functions\n",
    "\n",
    "os.chdir(scriptDir)"
   ]
  },
  {
   "cell_type": "code",
   "execution_count": 2,
   "metadata": {
    "ExecuteTime": {
     "end_time": "2018-02-16T11:33:09.809047Z",
     "start_time": "2018-02-16T11:32:55.132743Z"
    }
   },
   "outputs": [],
   "source": [
    "from sympy.interactive.printing import init_printing\n",
    "init_printing(use_unicode=False, wrap_line=True, no_global=True)\n",
    "from sympy import Symbol, symbols, MatrixSymbol, Matrix"
   ]
  },
  {
   "cell_type": "code",
   "execution_count": 3,
   "metadata": {
    "ExecuteTime": {
     "end_time": "2018-02-16T11:33:12.494220Z",
     "start_time": "2018-02-16T11:33:09.856159Z"
    }
   },
   "outputs": [],
   "source": [
    "%load_ext rpy2.ipython"
   ]
  },
  {
   "cell_type": "code",
   "execution_count": 4,
   "metadata": {
    "ExecuteTime": {
     "end_time": "2018-02-16T11:33:15.398255Z",
     "start_time": "2018-02-16T11:33:12.555376Z"
    }
   },
   "outputs": [],
   "source": [
    "fpath = MyComp.financePath  #path to financial econ folder\n",
    "\n",
    "cntryBook = xlrd.open_workbook(fpath + \"/data/gvar/Country Data (1979Q1-2011Q2).xlsx\")\n",
    "sheets = cntryBook.sheet_names()\n",
    "\n",
    "data = pd.DataFrame([])\n",
    "idx = pd.IndexSlice"
   ]
  },
  {
   "cell_type": "markdown",
   "metadata": {},
   "source": [
    "# Data"
   ]
  },
  {
   "cell_type": "code",
   "execution_count": null,
   "metadata": {},
   "outputs": [],
   "source": []
  },
  {
   "cell_type": "markdown",
   "metadata": {},
   "source": [
    "## Raw Data "
   ]
  },
  {
   "cell_type": "code",
   "execution_count": 5,
   "metadata": {
    "ExecuteTime": {
     "end_time": "2018-02-16T11:34:40.748357Z",
     "start_time": "2018-02-16T11:33:15.714107Z"
    }
   },
   "outputs": [],
   "source": [
    "for sheet in sheets:\n",
    "    temp = pd.read_excel(fpath + \"/data/gvar/Country Data (1979Q1-2011Q2).xlsx\", sheet_name=sheet)\n",
    "    temp['Country'] = sheet\n",
    "    temp.set_index([temp['Country'], temp['date']], inplace=True)\n",
    "    data = data.append(temp)\n",
    "    \n",
    "data = data.sort_index()\n",
    "\n",
    "tradeMatrix = pd.read_excel(fpath + \"/data/gvar/Trade Matrices (1980-2010).xls\")\n",
    "cntryCodes = pd.read_excel(fpath + \"/data/gvar/Country Codes.xls\", index_col='Country')"
   ]
  },
  {
   "cell_type": "markdown",
   "metadata": {},
   "source": [
    "### Create Regions"
   ]
  },
  {
   "cell_type": "code",
   "execution_count": 6,
   "metadata": {
    "ExecuteTime": {
     "end_time": "2018-02-16T11:34:41.384776Z",
     "start_time": "2018-02-16T11:34:41.333853Z"
    }
   },
   "outputs": [],
   "source": [
    "wEurope = ['Spain', 'Belgium', 'Netherlands', 'Switzerland']\n",
    "mEast = ['Saudi Arabia', 'Turkey']\n",
    "seAsia = ['Korea', 'Thailand', 'Indonesia', 'Malaysia', 'Philippines', 'Singapore']\n",
    "latAmerica = ['Argentina', 'Brazil', 'Chile', 'Peru', 'Mexico']\n",
    "\n",
    "regionDict= {}\n",
    "regionDict['Western Europe'] = wEurope\n",
    "regionDict['Middle East'] = mEast\n",
    "regionDict['Southeast Asia'] = seAsia\n",
    "regionDict['Latin America'] = latAmerica\n",
    "\n",
    "\n",
    "countriesAll = ['USA', 'UK', 'Germany', 'France', 'Italy', 'China', 'Japan']\n",
    "countriesAll.extend(wEurope)\n",
    "countriesAll.extend(mEast)\n",
    "countriesAll.extend(seAsia)\n",
    "countriesAll.extend(latAmerica)\n",
    "\n",
    "\n",
    "regions = ['USA', 'UK', 'Germany', 'France', 'Italy', 'China', 'Japan']\n",
    "regions.extend(['Western Europe','Middle East', 'Southeast Asia', 'Latin America'])"
   ]
  },
  {
   "cell_type": "markdown",
   "metadata": {},
   "source": [
    "### Create (Domestic) Variables "
   ]
  },
  {
   "cell_type": "code",
   "execution_count": 7,
   "metadata": {
    "ExecuteTime": {
     "end_time": "2018-02-16T11:34:42.405909Z",
     "start_time": "2018-02-16T11:34:42.003439Z"
    }
   },
   "outputs": [],
   "source": [
    "y, q, e, p, m, rho = [{} for i in range(6)]\n",
    "\n",
    "for region in ['USA', 'UK', 'Germany', 'France', 'Italy', 'China', 'Japan']:\n",
    "    try:\n",
    "        y[region] = data.loc[region][['RGDP','CPI']].apply(lambda x: np.log(x['RGDP']*x['CPI']/100), axis=1)\n",
    "    except:\n",
    "        pass\n",
    "    try:\n",
    "        p[region] = data.loc[region]['CPI'].apply(lambda x: np.log(x/100))\n",
    "    except:\n",
    "        pass\n",
    "    try:\n",
    "        q[region] = data.loc[region][['nomEQ','CPI']].apply(lambda x: np.log(x['nomEQ']*x['CPI']/100), axis=1)\n",
    "    except:\n",
    "        pass\n",
    "    #try:\n",
    "        #i_short[region] = data.loc[region][['RGDP','CPI']].apply(lambda x: np.log(x['RGDP']*x['CPI']/100), axis=1)\n",
    "    #except:\n",
    "        #pass\n",
    "    try:\n",
    "        e[region] = data.loc[region]['FXdol'].apply(lambda x: np.log(x))\n",
    "    except:\n",
    "        pass\n",
    "    try:\n",
    "        rho[region] = data.loc[region]['Rshort'].apply(lambda x: np.log(1 + x/100)) #R is based on 3 month yield\n",
    "    except:\n",
    "        pass\n"
   ]
  },
  {
   "cell_type": "markdown",
   "metadata": {},
   "source": [
    "## Construct Trade Weight Matrix "
   ]
  },
  {
   "cell_type": "code",
   "execution_count": 8,
   "metadata": {
    "ExecuteTime": {
     "end_time": "2018-02-16T11:34:44.645798Z",
     "start_time": "2018-02-16T11:34:43.480910Z"
    }
   },
   "outputs": [],
   "source": [
    "tradeMatrix['country_primary'] = tradeMatrix['country_primary'].apply(lambda x, code=cntryCodes: \n",
    "                                     code[code.values == x].index[0])\n",
    "\n",
    "countries = tradeMatrix[tradeMatrix.year == 1980]['country_primary'].tolist()\n",
    "tradeMatrix.rename(columns=lambda x, names=cntryCodes: \n",
    "                   names[names.values == int(x[1:])].index[0] if [x[1:]] in names\n",
    "                   .values.astype(str).tolist() else x, \n",
    "                   inplace=True)\n",
    "\n",
    "\n",
    "\n",
    "W = tradeMatrix.set_index([tradeMatrix.country_primary, \n",
    "                           pd.to_datetime(tradeMatrix.astype(str).year)])\n",
    "\n",
    "W = W.sort_index()"
   ]
  },
  {
   "cell_type": "markdown",
   "metadata": {},
   "source": [
    "### Create Country Specific (Starred*) Variables "
   ]
  },
  {
   "cell_type": "code",
   "execution_count": 9,
   "metadata": {
    "ExecuteTime": {
     "end_time": "2018-02-16T11:35:30.303590Z",
     "start_time": "2018-02-16T11:34:45.985883Z"
    }
   },
   "outputs": [],
   "source": [
    "W1990 = W[['USA', 'UK', 'Germany', 'France', 'Italy', \n",
    "           'China', 'Japan']].loc[idx[[\n",
    "    'USA', 'UK', 'Germany', 'France', 'Italy', 'China', 'Japan'],'1990'],:]\n",
    "\n",
    "w = {}\n",
    "\n",
    "for region in ['USA', 'UK', 'Germany', 'France', 'Italy', 'China', 'Japan']:\n",
    "    w[region] = W1990[region].apply(lambda x, xvec=W1990[region]: x/xvec.sum())\n",
    "\n",
    "\n",
    "ys, qs, es, ps, ms, rhos = [{} for i in range(6)]   \n",
    "\n",
    "global N\n",
    "\n",
    "N = len(y['USA'])\n",
    "\n",
    "def get_weighted(var, w_reg):\n",
    "    return sum([var[region] * w_reg[region].values[0] for region in w_reg.dropna().index.get_level_values(0)])\n",
    "\n",
    "\n",
    "\n",
    "def get_starred(var, temp):\n",
    "    star = {}\n",
    "    for region in var.keys():\n",
    "        star[region] = []\n",
    "        for i in range(N):\n",
    "            tempi = temp[list(filter(lambda x: x != region, temp.iloc[i].index))].iloc[i]\n",
    "            star[region].append(get_weighted(tempi, w[region]))\n",
    "\n",
    "    return pd.DataFrame(star, index=pd.DataFrame(var).index)    \n",
    "\n",
    "        \n",
    "        \n",
    "\n",
    "ys, qs, es, ps, rhos = [get_starred(x, pd.DataFrame(x)) for x in [y,q,e,p,rho]]\n",
    "y, q, e, p, rho = [pd.DataFrame(x) for x in [y,q,e,p,rho]]\n",
    "\n",
    "\n",
    "\n"
   ]
  },
  {
   "cell_type": "markdown",
   "metadata": {},
   "source": [
    "### Add Regions "
   ]
  },
  {
   "cell_type": "code",
   "execution_count": null,
   "metadata": {
    "ExecuteTime": {
     "end_time": "2018-02-12T12:03:57.620975Z",
     "start_time": "2018-02-12T12:03:54.730035Z"
    }
   },
   "outputs": [],
   "source": [
    "\n",
    "W = W.append(pd.DataFrame(index=list(product(['Western Europe','Middle East',\n",
    "                                         'Southeast Asia', 'Latin America'],\n",
    "                                             list(map(str,range(1980,2011)))))))\n",
    "\n",
    "for key, val in regionDict.items():\n",
    "    W[key] = W[list(filter(lambda x: x in val, \n",
    "                                        W.columns.tolist()))].apply(sum, axis=1)\n",
    "    for country in countries:\n",
    "        W.loc[idx[key,:], country] = W[key][country].values\n",
    "    \n",
    "for key, val in regionDict.items():    \n",
    "    for region in list(filter(lambda x: x!= key, regions[-4:])):\n",
    "        W.loc[idx[key,:], region] = W.loc[idx[key,:],\n",
    "                                          regionDict[region]].apply(sum, axis=1)    \n",
    "\n",
    "    \n",
    "W = W.sort_index()\n",
    "\n",
    "\n",
    "W = W[regions]                            # Only include countries/regions used in paper\n",
    "\n",
    "W = W.apply(lambda x: x/x.sum(), axis=1)  # Convert dollar value trade data matrix to weights matrix"
   ]
  },
  {
   "cell_type": "markdown",
   "metadata": {
    "ExecuteTime": {
     "end_time": "2018-02-12T11:54:52.737858Z",
     "start_time": "2018-02-12T11:54:52.059896Z"
    }
   },
   "source": [
    "# Analysis"
   ]
  },
  {
   "cell_type": "code",
   "execution_count": null,
   "metadata": {},
   "outputs": [],
   "source": []
  },
  {
   "cell_type": "markdown",
   "metadata": {},
   "source": [
    "## Error Correction "
   ]
  },
  {
   "cell_type": "code",
   "execution_count": 10,
   "metadata": {
    "ExecuteTime": {
     "end_time": "2018-02-16T11:35:36.556259Z",
     "start_time": "2018-02-16T11:35:32.163526Z"
    }
   },
   "outputs": [
    {
     "data": {
      "text/plain": [
       "array(['urca', 'MTS', 'tools', 'stats', 'graphics', 'grDevices', 'utils',\n",
       "       'datasets', 'methods', 'base'],\n",
       "      dtype='<U9')"
      ]
     },
     "execution_count": 10,
     "metadata": {},
     "output_type": "execute_result"
    }
   ],
   "source": [
    "%R library(MTS)\n",
    "%R library(urca)\n",
    "#%R library('GVAR', lib.loc='C:/Users/benmo/Documents/R/win-library/3.4')"
   ]
  },
  {
   "cell_type": "code",
   "execution_count": 39,
   "metadata": {
    "ExecuteTime": {
     "end_time": "2018-02-12T22:06:07.533046Z",
     "start_time": "2018-02-12T22:06:01.591643Z"
    }
   },
   "outputs": [
    {
     "name": "stdout",
     "output_type": "stream",
     "text": [
      "Order p:  2  Co-integrating rank:  1 \n",
      "Number of parameters:  23 \n",
      "initial estimates:  -0.0001612138 -0.002522158 -0.0004090163 -0.0001167729 1 1 1 0.002175153 -0.002252049 -0.003076825 -0.007182022 0.03402985 -0.03523286 -0.04813632 -0.1123613 0.005518593 -0.005713685 -0.007806227 -0.01822154 0.001575542 -0.00163124 -0.002228655 -0.005202197 \n",
      "Par. Lower-bounds:  -0.001281439 -0.0037349 -0.0009637744 -0.0002523696 0.9069739 0.9069739 0.9069739 -0.1712662 -0.09231841 -0.3633811 -0.8207534 -0.1537356 -0.1327376 -0.4381973 -0.9931236 -0.08037306 -0.05031636 -0.1862362 -0.4211184 -0.01941851 -0.01253324 -0.04584137 -0.1036802 \n",
      "Par. Upper-bounds:  0.0009590116 -0.001309416 0.0001457419 1.882374e-05 1.093026 1.093026 1.093026 0.1756165 0.08781432 0.3572275 0.8063893 0.2217953 0.06227187 0.3419247 0.768401 0.09141025 0.03888899 0.1706237 0.3846753 0.0225696 0.009270762 0.04138406 0.09327582 \n",
      "Final   Estimates:  0.0009590116 -0.001309416 -0.0003501017 -0.0001754271 1.093026 0.9069739 1.093026 -0.1661911 0.0132645 0.1285054 0.1019962 0.2089182 -0.01749402 -0.1445798 -0.1550024 0.04780408 -0.004400977 -0.02483574 -0.04847936 0.0225696 -0.002157694 -0.01007086 -0.02549711 \n",
      "\n",
      "Coefficient(s):\n",
      "        Estimate  Std. Error  t value Pr(>|t|)   \n",
      " [1,]  9.590e-04          NA       NA       NA   \n",
      " [2,] -1.309e-03   4.632e-04   -2.827   0.0047 **\n",
      " [3,] -3.501e-04          NA       NA       NA   \n",
      " [4,] -1.754e-04   7.809e-05   -2.247   0.0247 * \n",
      " [5,]  1.093e+00   6.892e-01    1.586   0.1127   \n",
      " [6,]  9.070e-01          NA       NA       NA   \n",
      " [7,]  1.093e+00   1.000e+01    0.109   0.9130   \n",
      " [8,] -1.662e-01   9.537e-02   -1.743   0.0814 . \n",
      " [9,]  1.326e-02   5.353e-02    0.248   0.8043   \n",
      "[10,]  1.285e-01   2.156e-01    0.596   0.5511   \n",
      "[11,]  1.020e-01   4.884e-01    0.209   0.8346   \n",
      "[12,]  2.089e-01   1.532e-01    1.364   0.1727   \n",
      "[13,] -1.749e-02   6.762e-02   -0.259   0.7959   \n",
      "[14,] -1.446e-01   2.780e-01   -0.520   0.6030   \n",
      "[15,] -1.550e-01   6.187e-01   -0.251   0.8022   \n",
      "[16,]  4.780e-02   5.922e-02    0.807   0.4195   \n",
      "[17,] -4.401e-03   3.088e-02   -0.143   0.8867   \n",
      "[18,] -2.484e-02   1.244e-01   -0.200   0.8417   \n",
      "[19,] -4.848e-02   2.832e-01   -0.171   0.8641   \n",
      "[20,]  2.257e-02   1.798e-02    1.256   0.2093   \n",
      "[21,] -2.158e-03   7.289e-03   -0.296   0.7672   \n",
      "[22,] -1.007e-02   3.005e-02   -0.335   0.7375   \n",
      "[23,] -2.550e-02   6.689e-02   -0.381   0.7031   \n",
      "---\n",
      "Signif. codes:  0 '***' 0.001 '**' 0.01 '*' 0.05 '.' 0.1 ' ' 1\n",
      "alpha:  \n",
      "          [,1]\n",
      "[1,]  0.000959\n",
      "[2,] -0.001309\n",
      "[3,] -0.000350\n",
      "[4,] -0.000175\n",
      "standard error \n",
      "         [,1]\n",
      "[1,]      NaN\n",
      "[2,] 4.63e-04\n",
      "[3,]      NaN\n",
      "[4,] 7.81e-05\n",
      "beta:  \n",
      "      [,1]\n",
      "[1,] 1.000\n",
      "[2,] 1.093\n",
      "[3,] 0.907\n",
      "[4,] 1.093\n",
      "standard error \n",
      "       [,1]\n",
      "[1,]  1.000\n",
      "[2,]  0.689\n",
      "[3,]    NaN\n",
      "[4,] 10.000\n",
      "AR coefficient matrix \n",
      "AR( 1 )-matrix \n",
      "        [,1]     [,2]    [,3]    [,4]\n",
      "[1,] -0.1662  0.01326  0.1285  0.1020\n",
      "[2,]  0.2089 -0.01749 -0.1446 -0.1550\n",
      "[3,]  0.0478 -0.00440 -0.0248 -0.0485\n",
      "[4,]  0.0226 -0.00216 -0.0101 -0.0255\n",
      "standard error \n",
      "       [,1]    [,2]  [,3]   [,4]\n",
      "[1,] 0.0954 0.05353 0.216 0.4884\n",
      "[2,] 0.1532 0.06762 0.278 0.6187\n",
      "[3,] 0.0592 0.03088 0.124 0.2832\n",
      "[4,] 0.0180 0.00729 0.030 0.0669\n",
      "----- \n",
      "Residuals cov-mtx: \n",
      "               y            e            p          rho\n",
      "y   7.294800e-04 3.633904e-04 3.671503e-04 2.694929e-05\n",
      "e   3.633904e-04 1.154972e-03 1.935791e-04 5.377585e-06\n",
      "p   3.671503e-04 1.935791e-04 2.439383e-04 2.031741e-05\n",
      "rho 2.694929e-05 5.377585e-06 2.031741e-05 1.342233e-05\n",
      "       \n",
      "det(sse) =  4.851471e-16 \n",
      "AIC =  -35.08516 \n",
      "BIC =  -34.77017 \n"
     ]
    }
   ],
   "source": [
    "%R -i y y <- data.frame(y)\n",
    "%R -i e e <- data.frame(e)\n",
    "%R -i p p <- data.frame(p)\n",
    "%R -i rho rho <- data.frame(rho)\n",
    "\n",
    "%R china <- data.frame(y['China'], e['China'], p['China'], rho['China'])\n",
    "%R names(china) <- c('y', 'e', 'p', 'rho')\n",
    "x = %R capture.output(ECMvar(china, 2, c(1,1,1,1)))\n",
    "for line in x: print(line)\n",
    "\n"
   ]
  },
  {
   "cell_type": "code",
   "execution_count": null,
   "metadata": {},
   "outputs": [],
   "source": []
  },
  {
   "cell_type": "code",
   "execution_count": null,
   "metadata": {},
   "outputs": [],
   "source": []
  },
  {
   "cell_type": "code",
   "execution_count": null,
   "metadata": {},
   "outputs": [],
   "source": []
  },
  {
   "cell_type": "code",
   "execution_count": null,
   "metadata": {},
   "outputs": [],
   "source": []
  },
  {
   "cell_type": "code",
   "execution_count": null,
   "metadata": {},
   "outputs": [],
   "source": []
  },
  {
   "cell_type": "code",
   "execution_count": null,
   "metadata": {},
   "outputs": [],
   "source": []
  },
  {
   "cell_type": "markdown",
   "metadata": {},
   "source": [
    "# Testing"
   ]
  },
  {
   "cell_type": "code",
   "execution_count": null,
   "metadata": {
    "ExecuteTime": {
     "end_time": "2018-02-12T12:05:01.978471Z",
     "start_time": "2018-02-12T12:05:01.647033Z"
    }
   },
   "outputs": [],
   "source": [
    "W1 = pd.DataFrame(index=regions, columns=regions) \n",
    "\n",
    "for region in regions:\n",
    "    W1[region] = W.loc[idx[region, '1996':'1998'], :].apply(np.mean, axis=0)\n",
    "    \n",
    "W1"
   ]
  },
  {
   "cell_type": "code",
   "execution_count": null,
   "metadata": {
    "ExecuteTime": {
     "end_time": "2018-02-12T12:10:57.735992Z",
     "start_time": "2018-02-12T12:10:55.937802Z"
    }
   },
   "outputs": [],
   "source": [
    "W1['USA'].sum()\n",
    "W1.loc['USA'].sum()"
   ]
  },
  {
   "cell_type": "code",
   "execution_count": null,
   "metadata": {
    "ExecuteTime": {
     "end_time": "2018-02-12T13:05:00.961404Z",
     "start_time": "2018-02-12T13:05:00.907258Z"
    }
   },
   "outputs": [],
   "source": [
    "data.loc['USA'].head()"
   ]
  },
  {
   "cell_type": "code",
   "execution_count": 19,
   "metadata": {
    "ExecuteTime": {
     "end_time": "2018-02-12T13:46:36.812314Z",
     "start_time": "2018-02-12T13:46:36.727330Z"
    }
   },
   "outputs": [
    {
     "data": {
      "text/html": [
       "<div>\n",
       "<style scoped>\n",
       "    .dataframe tbody tr th:only-of-type {\n",
       "        vertical-align: middle;\n",
       "    }\n",
       "\n",
       "    .dataframe tbody tr th {\n",
       "        vertical-align: top;\n",
       "    }\n",
       "\n",
       "    .dataframe thead th {\n",
       "        text-align: right;\n",
       "    }\n",
       "</style>\n",
       "<table border=\"1\" class=\"dataframe\">\n",
       "  <thead>\n",
       "    <tr style=\"text-align: right;\">\n",
       "      <th></th>\n",
       "      <th></th>\n",
       "      <th>USA</th>\n",
       "      <th>UK</th>\n",
       "      <th>Germany</th>\n",
       "      <th>France</th>\n",
       "      <th>Italy</th>\n",
       "      <th>China</th>\n",
       "      <th>Japan</th>\n",
       "    </tr>\n",
       "    <tr>\n",
       "      <th>country_primary</th>\n",
       "      <th>year</th>\n",
       "      <th></th>\n",
       "      <th></th>\n",
       "      <th></th>\n",
       "      <th></th>\n",
       "      <th></th>\n",
       "      <th></th>\n",
       "      <th></th>\n",
       "    </tr>\n",
       "  </thead>\n",
       "  <tbody>\n",
       "    <tr>\n",
       "      <th>China</th>\n",
       "      <th>1990-01-01</th>\n",
       "      <td>5952.470</td>\n",
       "      <td>1023.5275</td>\n",
       "      <td>2521.03</td>\n",
       "      <td>1163.614</td>\n",
       "      <td>979.737</td>\n",
       "      <td>NaN</td>\n",
       "      <td>8433.18</td>\n",
       "    </tr>\n",
       "    <tr>\n",
       "      <th>France</th>\n",
       "      <th>1990-01-01</th>\n",
       "      <td>15848.200</td>\n",
       "      <td>18190.2000</td>\n",
       "      <td>40376.95</td>\n",
       "      <td>NaN</td>\n",
       "      <td>25360.100</td>\n",
       "      <td>1809.2000</td>\n",
       "      <td>6696.55</td>\n",
       "    </tr>\n",
       "    <tr>\n",
       "      <th>Germany</th>\n",
       "      <th>1990-01-01</th>\n",
       "      <td>25973.800</td>\n",
       "      <td>28540.3500</td>\n",
       "      <td>NaN</td>\n",
       "      <td>46425.800</td>\n",
       "      <td>34781.650</td>\n",
       "      <td>3681.1750</td>\n",
       "      <td>15641.05</td>\n",
       "    </tr>\n",
       "    <tr>\n",
       "      <th>Italy</th>\n",
       "      <th>1990-01-01</th>\n",
       "      <td>11123.095</td>\n",
       "      <td>10762.6600</td>\n",
       "      <td>35661.80</td>\n",
       "      <td>26844.600</td>\n",
       "      <td>NaN</td>\n",
       "      <td>1401.2625</td>\n",
       "      <td>4107.34</td>\n",
       "    </tr>\n",
       "    <tr>\n",
       "      <th>Japan</th>\n",
       "      <th>1990-01-01</th>\n",
       "      <td>71981.300</td>\n",
       "      <td>8037.7650</td>\n",
       "      <td>14784.25</td>\n",
       "      <td>6878.730</td>\n",
       "      <td>4219.480</td>\n",
       "      <td>9100.7150</td>\n",
       "      <td>NaN</td>\n",
       "    </tr>\n",
       "    <tr>\n",
       "      <th>UK</th>\n",
       "      <th>1990-01-01</th>\n",
       "      <td>24158.050</td>\n",
       "      <td>NaN</td>\n",
       "      <td>29576.45</td>\n",
       "      <td>20110.800</td>\n",
       "      <td>10948.950</td>\n",
       "      <td>929.4535</td>\n",
       "      <td>8386.68</td>\n",
       "    </tr>\n",
       "    <tr>\n",
       "      <th>USA</th>\n",
       "      <th>1990-01-01</th>\n",
       "      <td>NaN</td>\n",
       "      <td>22207.8000</td>\n",
       "      <td>23916.20</td>\n",
       "      <td>13622.950</td>\n",
       "      <td>10691.300</td>\n",
       "      <td>10551.5000</td>\n",
       "      <td>70827.15</td>\n",
       "    </tr>\n",
       "  </tbody>\n",
       "</table>\n",
       "</div>"
      ],
      "text/plain": [
       "                                  USA          UK   Germany     France  \\\n",
       "country_primary year                                                     \n",
       "China           1990-01-01   5952.470   1023.5275   2521.03   1163.614   \n",
       "France          1990-01-01  15848.200  18190.2000  40376.95        NaN   \n",
       "Germany         1990-01-01  25973.800  28540.3500       NaN  46425.800   \n",
       "Italy           1990-01-01  11123.095  10762.6600  35661.80  26844.600   \n",
       "Japan           1990-01-01  71981.300   8037.7650  14784.25   6878.730   \n",
       "UK              1990-01-01  24158.050         NaN  29576.45  20110.800   \n",
       "USA             1990-01-01        NaN  22207.8000  23916.20  13622.950   \n",
       "\n",
       "                                Italy       China     Japan  \n",
       "country_primary year                                         \n",
       "China           1990-01-01    979.737         NaN   8433.18  \n",
       "France          1990-01-01  25360.100   1809.2000   6696.55  \n",
       "Germany         1990-01-01  34781.650   3681.1750  15641.05  \n",
       "Italy           1990-01-01        NaN   1401.2625   4107.34  \n",
       "Japan           1990-01-01   4219.480   9100.7150       NaN  \n",
       "UK              1990-01-01  10948.950    929.4535   8386.68  \n",
       "USA             1990-01-01  10691.300  10551.5000  70827.15  "
      ]
     },
     "execution_count": 19,
     "metadata": {},
     "output_type": "execute_result"
    }
   ],
   "source": [
    "W1990 = W[['USA', 'UK', 'Germany', 'France', 'Italy', \n",
    "           'China', 'Japan']].loc[idx[[\n",
    "    'USA', 'UK', 'Germany', 'France', 'Italy', 'China', 'Japan'],'1990'],:]\n",
    "W1990"
   ]
  },
  {
   "cell_type": "code",
   "execution_count": 47,
   "metadata": {
    "ExecuteTime": {
     "end_time": "2018-02-12T14:05:03.265889Z",
     "start_time": "2018-02-12T14:05:03.237129Z"
    }
   },
   "outputs": [
    {
     "data": {
      "text/plain": [
       "['China', 'France', 'Germany', 'Italy', 'Japan', 'UK', 'USA']"
      ]
     },
     "execution_count": 47,
     "metadata": {},
     "output_type": "execute_result"
    }
   ],
   "source": [
    "bob=W1990['USA'].apply(lambda x, xvec=W1990['USA']: x/xvec.sum())\n",
    "bob.index.get_level_values(0).tolist()"
   ]
  },
  {
   "cell_type": "code",
   "execution_count": null,
   "metadata": {
    "ExecuteTime": {
     "end_time": "2018-02-12T14:31:24.114713Z",
     "start_time": "2018-02-12T14:31:23.655465Z"
    }
   },
   "outputs": [],
   "source": []
  },
  {
   "cell_type": "code",
   "execution_count": 66,
   "metadata": {
    "ExecuteTime": {
     "end_time": "2018-02-12T14:27:56.844509Z",
     "start_time": "2018-02-12T14:27:56.703486Z"
    }
   },
   "outputs": [
    {
     "data": {
      "text/html": [
       "<div>\n",
       "<style scoped>\n",
       "    .dataframe tbody tr th:only-of-type {\n",
       "        vertical-align: middle;\n",
       "    }\n",
       "\n",
       "    .dataframe tbody tr th {\n",
       "        vertical-align: top;\n",
       "    }\n",
       "\n",
       "    .dataframe thead th {\n",
       "        text-align: right;\n",
       "    }\n",
       "</style>\n",
       "<table border=\"1\" class=\"dataframe\">\n",
       "  <thead>\n",
       "    <tr style=\"text-align: right;\">\n",
       "      <th></th>\n",
       "      <th>China</th>\n",
       "      <th>France</th>\n",
       "      <th>Germany</th>\n",
       "      <th>Italy</th>\n",
       "      <th>Japan</th>\n",
       "      <th>UK</th>\n",
       "      <th>USA</th>\n",
       "    </tr>\n",
       "    <tr>\n",
       "      <th>date</th>\n",
       "      <th></th>\n",
       "      <th></th>\n",
       "      <th></th>\n",
       "      <th></th>\n",
       "      <th></th>\n",
       "      <th></th>\n",
       "      <th></th>\n",
       "    </tr>\n",
       "  </thead>\n",
       "  <tbody>\n",
       "    <tr>\n",
       "      <th>1979Q1</th>\n",
       "      <td>0.452330</td>\n",
       "      <td>-0.413018</td>\n",
       "      <td>-0.035454</td>\n",
       "      <td>-0.821217</td>\n",
       "      <td>5.290197</td>\n",
       "      <td>-0.710212</td>\n",
       "      <td>0.0</td>\n",
       "    </tr>\n",
       "    <tr>\n",
       "      <th>1979Q2</th>\n",
       "      <td>0.457078</td>\n",
       "      <td>-0.388494</td>\n",
       "      <td>-0.014047</td>\n",
       "      <td>-0.811855</td>\n",
       "      <td>5.367343</td>\n",
       "      <td>-0.741518</td>\n",
       "      <td>0.0</td>\n",
       "    </tr>\n",
       "    <tr>\n",
       "      <th>1979Q3</th>\n",
       "      <td>0.430000</td>\n",
       "      <td>-0.421087</td>\n",
       "      <td>-0.056393</td>\n",
       "      <td>-0.848312</td>\n",
       "      <td>5.373039</td>\n",
       "      <td>-0.811744</td>\n",
       "      <td>0.0</td>\n",
       "    </tr>\n",
       "    <tr>\n",
       "      <th>1979Q4</th>\n",
       "      <td>0.415753</td>\n",
       "      <td>-0.443273</td>\n",
       "      <td>-0.084389</td>\n",
       "      <td>-0.843459</td>\n",
       "      <td>5.459491</td>\n",
       "      <td>-0.778428</td>\n",
       "      <td>0.0</td>\n",
       "    </tr>\n",
       "    <tr>\n",
       "      <th>1980Q1</th>\n",
       "      <td>0.412985</td>\n",
       "      <td>-0.441335</td>\n",
       "      <td>-0.080224</td>\n",
       "      <td>-0.838397</td>\n",
       "      <td>5.479900</td>\n",
       "      <td>-0.821534</td>\n",
       "      <td>0.0</td>\n",
       "    </tr>\n",
       "    <tr>\n",
       "      <th>1980Q2</th>\n",
       "      <td>0.403568</td>\n",
       "      <td>-0.426273</td>\n",
       "      <td>-0.059503</td>\n",
       "      <td>-0.806606</td>\n",
       "      <td>5.434314</td>\n",
       "      <td>-0.834913</td>\n",
       "      <td>0.0</td>\n",
       "    </tr>\n",
       "    <tr>\n",
       "      <th>1980Q3</th>\n",
       "      <td>0.378949</td>\n",
       "      <td>-0.448041</td>\n",
       "      <td>-0.079002</td>\n",
       "      <td>-0.816062</td>\n",
       "      <td>5.378611</td>\n",
       "      <td>-0.876854</td>\n",
       "      <td>0.0</td>\n",
       "    </tr>\n",
       "    <tr>\n",
       "      <th>1980Q4</th>\n",
       "      <td>0.411730</td>\n",
       "      <td>-0.378169</td>\n",
       "      <td>-0.005407</td>\n",
       "      <td>-0.744446</td>\n",
       "      <td>5.334790</td>\n",
       "      <td>-0.878520</td>\n",
       "      <td>0.0</td>\n",
       "    </tr>\n",
       "    <tr>\n",
       "      <th>1981Q1</th>\n",
       "      <td>0.464878</td>\n",
       "      <td>-0.283251</td>\n",
       "      <td>0.082427</td>\n",
       "      <td>-0.644445</td>\n",
       "      <td>5.310393</td>\n",
       "      <td>-0.845473</td>\n",
       "      <td>0.0</td>\n",
       "    </tr>\n",
       "    <tr>\n",
       "      <th>1981Q2</th>\n",
       "      <td>0.536916</td>\n",
       "      <td>-0.174397</td>\n",
       "      <td>0.169222</td>\n",
       "      <td>-0.519973</td>\n",
       "      <td>5.378234</td>\n",
       "      <td>-0.740566</td>\n",
       "      <td>0.0</td>\n",
       "    </tr>\n",
       "    <tr>\n",
       "      <th>1981Q3</th>\n",
       "      <td>0.566430</td>\n",
       "      <td>-0.104929</td>\n",
       "      <td>0.235891</td>\n",
       "      <td>-0.450706</td>\n",
       "      <td>5.430870</td>\n",
       "      <td>-0.616802</td>\n",
       "      <td>0.0</td>\n",
       "    </tr>\n",
       "    <tr>\n",
       "      <th>1981Q4</th>\n",
       "      <td>0.551946</td>\n",
       "      <td>-0.132278</td>\n",
       "      <td>0.155493</td>\n",
       "      <td>-0.466671</td>\n",
       "      <td>5.399297</td>\n",
       "      <td>-0.642136</td>\n",
       "      <td>0.0</td>\n",
       "    </tr>\n",
       "    <tr>\n",
       "      <th>1982Q1</th>\n",
       "      <td>0.589542</td>\n",
       "      <td>-0.073330</td>\n",
       "      <td>0.199533</td>\n",
       "      <td>-0.413233</td>\n",
       "      <td>5.437759</td>\n",
       "      <td>-0.622590</td>\n",
       "      <td>0.0</td>\n",
       "    </tr>\n",
       "    <tr>\n",
       "      <th>1982Q2</th>\n",
       "      <td>0.614239</td>\n",
       "      <td>-0.027076</td>\n",
       "      <td>0.213149</td>\n",
       "      <td>-0.368680</td>\n",
       "      <td>5.482868</td>\n",
       "      <td>-0.585607</td>\n",
       "      <td>0.0</td>\n",
       "    </tr>\n",
       "    <tr>\n",
       "      <th>1982Q3</th>\n",
       "      <td>0.658938</td>\n",
       "      <td>0.073323</td>\n",
       "      <td>0.255631</td>\n",
       "      <td>-0.313878</td>\n",
       "      <td>5.540905</td>\n",
       "      <td>-0.554646</td>\n",
       "      <td>0.0</td>\n",
       "    </tr>\n",
       "    <tr>\n",
       "      <th>1982Q4</th>\n",
       "      <td>0.676587</td>\n",
       "      <td>0.092065</td>\n",
       "      <td>0.263660</td>\n",
       "      <td>-0.284486</td>\n",
       "      <td>5.544068</td>\n",
       "      <td>-0.509369</td>\n",
       "      <td>0.0</td>\n",
       "    </tr>\n",
       "    <tr>\n",
       "      <th>1983Q1</th>\n",
       "      <td>0.666767</td>\n",
       "      <td>0.065455</td>\n",
       "      <td>0.225578</td>\n",
       "      <td>-0.309732</td>\n",
       "      <td>5.447323</td>\n",
       "      <td>-0.435402</td>\n",
       "      <td>0.0</td>\n",
       "    </tr>\n",
       "    <tr>\n",
       "      <th>1983Q2</th>\n",
       "      <td>0.684280</td>\n",
       "      <td>0.146652</td>\n",
       "      <td>0.257069</td>\n",
       "      <td>-0.255466</td>\n",
       "      <td>5.454913</td>\n",
       "      <td>-0.450889</td>\n",
       "      <td>0.0</td>\n",
       "    </tr>\n",
       "    <tr>\n",
       "      <th>1983Q3</th>\n",
       "      <td>0.682316</td>\n",
       "      <td>0.210211</td>\n",
       "      <td>0.318754</td>\n",
       "      <td>-0.192406</td>\n",
       "      <td>5.475744</td>\n",
       "      <td>-0.421372</td>\n",
       "      <td>0.0</td>\n",
       "    </tr>\n",
       "    <tr>\n",
       "      <th>1983Q4</th>\n",
       "      <td>0.680196</td>\n",
       "      <td>0.235957</td>\n",
       "      <td>0.331787</td>\n",
       "      <td>-0.160407</td>\n",
       "      <td>5.440965</td>\n",
       "      <td>-0.394349</td>\n",
       "      <td>0.0</td>\n",
       "    </tr>\n",
       "    <tr>\n",
       "      <th>1984Q1</th>\n",
       "      <td>0.716839</td>\n",
       "      <td>0.252704</td>\n",
       "      <td>0.341054</td>\n",
       "      <td>-0.137523</td>\n",
       "      <td>5.427054</td>\n",
       "      <td>-0.369899</td>\n",
       "      <td>0.0</td>\n",
       "    </tr>\n",
       "    <tr>\n",
       "      <th>1984Q2</th>\n",
       "      <td>0.768134</td>\n",
       "      <td>0.255362</td>\n",
       "      <td>0.343641</td>\n",
       "      <td>-0.129740</td>\n",
       "      <td>5.420976</td>\n",
       "      <td>-0.343209</td>\n",
       "      <td>0.0</td>\n",
       "    </tr>\n",
       "    <tr>\n",
       "      <th>1984Q3</th>\n",
       "      <td>0.871692</td>\n",
       "      <td>0.328562</td>\n",
       "      <td>0.418084</td>\n",
       "      <td>-0.058300</td>\n",
       "      <td>5.479547</td>\n",
       "      <td>-0.269359</td>\n",
       "      <td>0.0</td>\n",
       "    </tr>\n",
       "    <tr>\n",
       "      <th>1984Q4</th>\n",
       "      <td>0.979218</td>\n",
       "      <td>0.372503</td>\n",
       "      <td>0.462959</td>\n",
       "      <td>-0.008962</td>\n",
       "      <td>5.490019</td>\n",
       "      <td>-0.204486</td>\n",
       "      <td>0.0</td>\n",
       "    </tr>\n",
       "    <tr>\n",
       "      <th>1985Q1</th>\n",
       "      <td>1.036578</td>\n",
       "      <td>0.434356</td>\n",
       "      <td>0.527478</td>\n",
       "      <td>0.057833</td>\n",
       "      <td>5.536337</td>\n",
       "      <td>-0.117153</td>\n",
       "      <td>0.0</td>\n",
       "    </tr>\n",
       "    <tr>\n",
       "      <th>1985Q2</th>\n",
       "      <td>1.044952</td>\n",
       "      <td>0.377231</td>\n",
       "      <td>0.473970</td>\n",
       "      <td>0.032590</td>\n",
       "      <td>5.508995</td>\n",
       "      <td>-0.237973</td>\n",
       "      <td>0.0</td>\n",
       "    </tr>\n",
       "    <tr>\n",
       "      <th>1985Q3</th>\n",
       "      <td>1.066652</td>\n",
       "      <td>0.297574</td>\n",
       "      <td>0.393835</td>\n",
       "      <td>-0.006258</td>\n",
       "      <td>5.459550</td>\n",
       "      <td>-0.327689</td>\n",
       "      <td>0.0</td>\n",
       "    </tr>\n",
       "    <tr>\n",
       "      <th>1985Q4</th>\n",
       "      <td>1.147053</td>\n",
       "      <td>0.200960</td>\n",
       "      <td>0.296177</td>\n",
       "      <td>-0.085994</td>\n",
       "      <td>5.317760</td>\n",
       "      <td>-0.371492</td>\n",
       "      <td>0.0</td>\n",
       "    </tr>\n",
       "    <tr>\n",
       "      <th>1986Q1</th>\n",
       "      <td>1.162786</td>\n",
       "      <td>0.110912</td>\n",
       "      <td>0.199729</td>\n",
       "      <td>-0.176901</td>\n",
       "      <td>5.220410</td>\n",
       "      <td>-0.373773</td>\n",
       "      <td>0.0</td>\n",
       "    </tr>\n",
       "    <tr>\n",
       "      <th>1986Q2</th>\n",
       "      <td>1.174029</td>\n",
       "      <td>0.107675</td>\n",
       "      <td>0.159443</td>\n",
       "      <td>-0.211452</td>\n",
       "      <td>5.122316</td>\n",
       "      <td>-0.419209</td>\n",
       "      <td>0.0</td>\n",
       "    </tr>\n",
       "    <tr>\n",
       "      <th>...</th>\n",
       "      <td>...</td>\n",
       "      <td>...</td>\n",
       "      <td>...</td>\n",
       "      <td>...</td>\n",
       "      <td>...</td>\n",
       "      <td>...</td>\n",
       "      <td>...</td>\n",
       "    </tr>\n",
       "    <tr>\n",
       "      <th>2004Q1</th>\n",
       "      <td>2.114499</td>\n",
       "      <td>-0.187309</td>\n",
       "      <td>-0.187707</td>\n",
       "      <td>-0.187337</td>\n",
       "      <td>4.667727</td>\n",
       "      <td>-0.612097</td>\n",
       "      <td>0.0</td>\n",
       "    </tr>\n",
       "    <tr>\n",
       "      <th>2004Q2</th>\n",
       "      <td>2.114459</td>\n",
       "      <td>-0.156169</td>\n",
       "      <td>-0.156567</td>\n",
       "      <td>-0.156197</td>\n",
       "      <td>4.702640</td>\n",
       "      <td>-0.588355</td>\n",
       "      <td>0.0</td>\n",
       "    </tr>\n",
       "    <tr>\n",
       "      <th>2004Q3</th>\n",
       "      <td>2.114447</td>\n",
       "      <td>-0.165147</td>\n",
       "      <td>-0.165545</td>\n",
       "      <td>-0.165175</td>\n",
       "      <td>4.708457</td>\n",
       "      <td>-0.591260</td>\n",
       "      <td>0.0</td>\n",
       "    </tr>\n",
       "    <tr>\n",
       "      <th>2004Q4</th>\n",
       "      <td>2.114422</td>\n",
       "      <td>-0.244413</td>\n",
       "      <td>-0.244812</td>\n",
       "      <td>-0.244441</td>\n",
       "      <td>4.647680</td>\n",
       "      <td>-0.628392</td>\n",
       "      <td>0.0</td>\n",
       "    </tr>\n",
       "    <tr>\n",
       "      <th>2005Q1</th>\n",
       "      <td>2.114426</td>\n",
       "      <td>-0.237397</td>\n",
       "      <td>-0.237795</td>\n",
       "      <td>-0.237425</td>\n",
       "      <td>4.655158</td>\n",
       "      <td>-0.636046</td>\n",
       "      <td>0.0</td>\n",
       "    </tr>\n",
       "    <tr>\n",
       "      <th>2005Q2</th>\n",
       "      <td>2.114422</td>\n",
       "      <td>-0.194931</td>\n",
       "      <td>-0.195329</td>\n",
       "      <td>-0.194959</td>\n",
       "      <td>4.681931</td>\n",
       "      <td>-0.613232</td>\n",
       "      <td>0.0</td>\n",
       "    </tr>\n",
       "    <tr>\n",
       "      <th>2005Q3</th>\n",
       "      <td>2.093138</td>\n",
       "      <td>-0.164518</td>\n",
       "      <td>-0.164916</td>\n",
       "      <td>-0.164546</td>\n",
       "      <td>4.718802</td>\n",
       "      <td>-0.571692</td>\n",
       "      <td>0.0</td>\n",
       "    </tr>\n",
       "    <tr>\n",
       "      <th>2005Q4</th>\n",
       "      <td>2.090382</td>\n",
       "      <td>-0.143470</td>\n",
       "      <td>-0.143869</td>\n",
       "      <td>-0.143498</td>\n",
       "      <td>4.769264</td>\n",
       "      <td>-0.553496</td>\n",
       "      <td>0.0</td>\n",
       "    </tr>\n",
       "    <tr>\n",
       "      <th>2006Q1</th>\n",
       "      <td>2.086070</td>\n",
       "      <td>-0.157059</td>\n",
       "      <td>-0.157457</td>\n",
       "      <td>-0.157087</td>\n",
       "      <td>4.765353</td>\n",
       "      <td>-0.561468</td>\n",
       "      <td>0.0</td>\n",
       "    </tr>\n",
       "    <tr>\n",
       "      <th>2006Q2</th>\n",
       "      <td>2.081872</td>\n",
       "      <td>-0.201404</td>\n",
       "      <td>-0.201803</td>\n",
       "      <td>-0.201432</td>\n",
       "      <td>4.741302</td>\n",
       "      <td>-0.600527</td>\n",
       "      <td>0.0</td>\n",
       "    </tr>\n",
       "    <tr>\n",
       "      <th>2006Q3</th>\n",
       "      <td>2.073990</td>\n",
       "      <td>-0.212855</td>\n",
       "      <td>-0.213253</td>\n",
       "      <td>-0.212883</td>\n",
       "      <td>4.761713</td>\n",
       "      <td>-0.632226</td>\n",
       "      <td>0.0</td>\n",
       "    </tr>\n",
       "    <tr>\n",
       "      <th>2006Q4</th>\n",
       "      <td>2.061618</td>\n",
       "      <td>-0.228546</td>\n",
       "      <td>-0.228944</td>\n",
       "      <td>-0.228574</td>\n",
       "      <td>4.771580</td>\n",
       "      <td>-0.655114</td>\n",
       "      <td>0.0</td>\n",
       "    </tr>\n",
       "    <tr>\n",
       "      <th>2007Q1</th>\n",
       "      <td>2.048458</td>\n",
       "      <td>-0.246799</td>\n",
       "      <td>-0.247197</td>\n",
       "      <td>-0.246827</td>\n",
       "      <td>4.776394</td>\n",
       "      <td>-0.674473</td>\n",
       "      <td>0.0</td>\n",
       "    </tr>\n",
       "    <tr>\n",
       "      <th>2007Q2</th>\n",
       "      <td>2.037057</td>\n",
       "      <td>-0.270455</td>\n",
       "      <td>-0.270853</td>\n",
       "      <td>-0.270483</td>\n",
       "      <td>4.796217</td>\n",
       "      <td>-0.688849</td>\n",
       "      <td>0.0</td>\n",
       "    </tr>\n",
       "    <tr>\n",
       "      <th>2007Q3</th>\n",
       "      <td>2.021220</td>\n",
       "      <td>-0.294838</td>\n",
       "      <td>-0.295236</td>\n",
       "      <td>-0.294866</td>\n",
       "      <td>4.765439</td>\n",
       "      <td>-0.707180</td>\n",
       "      <td>0.0</td>\n",
       "    </tr>\n",
       "    <tr>\n",
       "      <th>2007Q4</th>\n",
       "      <td>2.002644</td>\n",
       "      <td>-0.348600</td>\n",
       "      <td>-0.348998</td>\n",
       "      <td>-0.348628</td>\n",
       "      <td>4.729512</td>\n",
       "      <td>-0.716324</td>\n",
       "      <td>0.0</td>\n",
       "    </tr>\n",
       "    <tr>\n",
       "      <th>2008Q1</th>\n",
       "      <td>1.964097</td>\n",
       "      <td>-0.392848</td>\n",
       "      <td>-0.393246</td>\n",
       "      <td>-0.392876</td>\n",
       "      <td>4.643873</td>\n",
       "      <td>-0.688915</td>\n",
       "      <td>0.0</td>\n",
       "    </tr>\n",
       "    <tr>\n",
       "      <th>2008Q2</th>\n",
       "      <td>1.937265</td>\n",
       "      <td>-0.417298</td>\n",
       "      <td>-0.417697</td>\n",
       "      <td>-0.417326</td>\n",
       "      <td>4.658196</td>\n",
       "      <td>-0.683307</td>\n",
       "      <td>0.0</td>\n",
       "    </tr>\n",
       "    <tr>\n",
       "      <th>2008Q3</th>\n",
       "      <td>1.922287</td>\n",
       "      <td>-0.372879</td>\n",
       "      <td>-0.373277</td>\n",
       "      <td>-0.372907</td>\n",
       "      <td>4.681036</td>\n",
       "      <td>-0.633933</td>\n",
       "      <td>0.0</td>\n",
       "    </tr>\n",
       "    <tr>\n",
       "      <th>2008Q4</th>\n",
       "      <td>1.923048</td>\n",
       "      <td>-0.251563</td>\n",
       "      <td>-0.251961</td>\n",
       "      <td>-0.251591</td>\n",
       "      <td>4.549043</td>\n",
       "      <td>-0.431209</td>\n",
       "      <td>0.0</td>\n",
       "    </tr>\n",
       "    <tr>\n",
       "      <th>2009Q1</th>\n",
       "      <td>1.923453</td>\n",
       "      <td>-0.243585</td>\n",
       "      <td>-0.243983</td>\n",
       "      <td>-0.243613</td>\n",
       "      <td>4.554317</td>\n",
       "      <td>-0.359546</td>\n",
       "      <td>0.0</td>\n",
       "    </tr>\n",
       "    <tr>\n",
       "      <th>2009Q2</th>\n",
       "      <td>1.922131</td>\n",
       "      <td>-0.282459</td>\n",
       "      <td>-0.282858</td>\n",
       "      <td>-0.282487</td>\n",
       "      <td>4.566410</td>\n",
       "      <td>-0.449488</td>\n",
       "      <td>0.0</td>\n",
       "    </tr>\n",
       "    <tr>\n",
       "      <th>2009Q3</th>\n",
       "      <td>1.922326</td>\n",
       "      <td>-0.328336</td>\n",
       "      <td>-0.328735</td>\n",
       "      <td>-0.328364</td>\n",
       "      <td>4.532194</td>\n",
       "      <td>-0.482188</td>\n",
       "      <td>0.0</td>\n",
       "    </tr>\n",
       "    <tr>\n",
       "      <th>2009Q4</th>\n",
       "      <td>1.921887</td>\n",
       "      <td>-0.356470</td>\n",
       "      <td>-0.356869</td>\n",
       "      <td>-0.356498</td>\n",
       "      <td>4.501583</td>\n",
       "      <td>-0.493218</td>\n",
       "      <td>0.0</td>\n",
       "    </tr>\n",
       "    <tr>\n",
       "      <th>2010Q1</th>\n",
       "      <td>1.921833</td>\n",
       "      <td>-0.283739</td>\n",
       "      <td>-0.284138</td>\n",
       "      <td>-0.283767</td>\n",
       "      <td>4.512903</td>\n",
       "      <td>-0.442792</td>\n",
       "      <td>0.0</td>\n",
       "    </tr>\n",
       "    <tr>\n",
       "      <th>2010Q2</th>\n",
       "      <td>1.919702</td>\n",
       "      <td>-0.195278</td>\n",
       "      <td>-0.195676</td>\n",
       "      <td>-0.195306</td>\n",
       "      <td>4.508324</td>\n",
       "      <td>-0.394335</td>\n",
       "      <td>0.0</td>\n",
       "    </tr>\n",
       "    <tr>\n",
       "      <th>2010Q3</th>\n",
       "      <td>1.911245</td>\n",
       "      <td>-0.238517</td>\n",
       "      <td>-0.238916</td>\n",
       "      <td>-0.238545</td>\n",
       "      <td>4.445326</td>\n",
       "      <td>-0.445191</td>\n",
       "      <td>0.0</td>\n",
       "    </tr>\n",
       "    <tr>\n",
       "      <th>2010Q4</th>\n",
       "      <td>1.896054</td>\n",
       "      <td>-0.265475</td>\n",
       "      <td>-0.265874</td>\n",
       "      <td>-0.265503</td>\n",
       "      <td>4.410150</td>\n",
       "      <td>-0.449416</td>\n",
       "      <td>0.0</td>\n",
       "    </tr>\n",
       "    <tr>\n",
       "      <th>2011Q1</th>\n",
       "      <td>1.883814</td>\n",
       "      <td>-0.296361</td>\n",
       "      <td>-0.296760</td>\n",
       "      <td>-0.296389</td>\n",
       "      <td>4.412819</td>\n",
       "      <td>-0.474146</td>\n",
       "      <td>0.0</td>\n",
       "    </tr>\n",
       "    <tr>\n",
       "      <th>2011Q2</th>\n",
       "      <td>1.871238</td>\n",
       "      <td>-0.336721</td>\n",
       "      <td>-0.337120</td>\n",
       "      <td>-0.336749</td>\n",
       "      <td>4.402017</td>\n",
       "      <td>-0.489325</td>\n",
       "      <td>0.0</td>\n",
       "    </tr>\n",
       "  </tbody>\n",
       "</table>\n",
       "<p>130 rows × 7 columns</p>\n",
       "</div>"
      ],
      "text/plain": [
       "           China    France   Germany     Italy     Japan        UK  USA\n",
       "date                                                                   \n",
       "1979Q1  0.452330 -0.413018 -0.035454 -0.821217  5.290197 -0.710212  0.0\n",
       "1979Q2  0.457078 -0.388494 -0.014047 -0.811855  5.367343 -0.741518  0.0\n",
       "1979Q3  0.430000 -0.421087 -0.056393 -0.848312  5.373039 -0.811744  0.0\n",
       "1979Q4  0.415753 -0.443273 -0.084389 -0.843459  5.459491 -0.778428  0.0\n",
       "1980Q1  0.412985 -0.441335 -0.080224 -0.838397  5.479900 -0.821534  0.0\n",
       "1980Q2  0.403568 -0.426273 -0.059503 -0.806606  5.434314 -0.834913  0.0\n",
       "1980Q3  0.378949 -0.448041 -0.079002 -0.816062  5.378611 -0.876854  0.0\n",
       "1980Q4  0.411730 -0.378169 -0.005407 -0.744446  5.334790 -0.878520  0.0\n",
       "1981Q1  0.464878 -0.283251  0.082427 -0.644445  5.310393 -0.845473  0.0\n",
       "1981Q2  0.536916 -0.174397  0.169222 -0.519973  5.378234 -0.740566  0.0\n",
       "1981Q3  0.566430 -0.104929  0.235891 -0.450706  5.430870 -0.616802  0.0\n",
       "1981Q4  0.551946 -0.132278  0.155493 -0.466671  5.399297 -0.642136  0.0\n",
       "1982Q1  0.589542 -0.073330  0.199533 -0.413233  5.437759 -0.622590  0.0\n",
       "1982Q2  0.614239 -0.027076  0.213149 -0.368680  5.482868 -0.585607  0.0\n",
       "1982Q3  0.658938  0.073323  0.255631 -0.313878  5.540905 -0.554646  0.0\n",
       "1982Q4  0.676587  0.092065  0.263660 -0.284486  5.544068 -0.509369  0.0\n",
       "1983Q1  0.666767  0.065455  0.225578 -0.309732  5.447323 -0.435402  0.0\n",
       "1983Q2  0.684280  0.146652  0.257069 -0.255466  5.454913 -0.450889  0.0\n",
       "1983Q3  0.682316  0.210211  0.318754 -0.192406  5.475744 -0.421372  0.0\n",
       "1983Q4  0.680196  0.235957  0.331787 -0.160407  5.440965 -0.394349  0.0\n",
       "1984Q1  0.716839  0.252704  0.341054 -0.137523  5.427054 -0.369899  0.0\n",
       "1984Q2  0.768134  0.255362  0.343641 -0.129740  5.420976 -0.343209  0.0\n",
       "1984Q3  0.871692  0.328562  0.418084 -0.058300  5.479547 -0.269359  0.0\n",
       "1984Q4  0.979218  0.372503  0.462959 -0.008962  5.490019 -0.204486  0.0\n",
       "1985Q1  1.036578  0.434356  0.527478  0.057833  5.536337 -0.117153  0.0\n",
       "1985Q2  1.044952  0.377231  0.473970  0.032590  5.508995 -0.237973  0.0\n",
       "1985Q3  1.066652  0.297574  0.393835 -0.006258  5.459550 -0.327689  0.0\n",
       "1985Q4  1.147053  0.200960  0.296177 -0.085994  5.317760 -0.371492  0.0\n",
       "1986Q1  1.162786  0.110912  0.199729 -0.176901  5.220410 -0.373773  0.0\n",
       "1986Q2  1.174029  0.107675  0.159443 -0.211452  5.122316 -0.419209  0.0\n",
       "...          ...       ...       ...       ...       ...       ...  ...\n",
       "2004Q1  2.114499 -0.187309 -0.187707 -0.187337  4.667727 -0.612097  0.0\n",
       "2004Q2  2.114459 -0.156169 -0.156567 -0.156197  4.702640 -0.588355  0.0\n",
       "2004Q3  2.114447 -0.165147 -0.165545 -0.165175  4.708457 -0.591260  0.0\n",
       "2004Q4  2.114422 -0.244413 -0.244812 -0.244441  4.647680 -0.628392  0.0\n",
       "2005Q1  2.114426 -0.237397 -0.237795 -0.237425  4.655158 -0.636046  0.0\n",
       "2005Q2  2.114422 -0.194931 -0.195329 -0.194959  4.681931 -0.613232  0.0\n",
       "2005Q3  2.093138 -0.164518 -0.164916 -0.164546  4.718802 -0.571692  0.0\n",
       "2005Q4  2.090382 -0.143470 -0.143869 -0.143498  4.769264 -0.553496  0.0\n",
       "2006Q1  2.086070 -0.157059 -0.157457 -0.157087  4.765353 -0.561468  0.0\n",
       "2006Q2  2.081872 -0.201404 -0.201803 -0.201432  4.741302 -0.600527  0.0\n",
       "2006Q3  2.073990 -0.212855 -0.213253 -0.212883  4.761713 -0.632226  0.0\n",
       "2006Q4  2.061618 -0.228546 -0.228944 -0.228574  4.771580 -0.655114  0.0\n",
       "2007Q1  2.048458 -0.246799 -0.247197 -0.246827  4.776394 -0.674473  0.0\n",
       "2007Q2  2.037057 -0.270455 -0.270853 -0.270483  4.796217 -0.688849  0.0\n",
       "2007Q3  2.021220 -0.294838 -0.295236 -0.294866  4.765439 -0.707180  0.0\n",
       "2007Q4  2.002644 -0.348600 -0.348998 -0.348628  4.729512 -0.716324  0.0\n",
       "2008Q1  1.964097 -0.392848 -0.393246 -0.392876  4.643873 -0.688915  0.0\n",
       "2008Q2  1.937265 -0.417298 -0.417697 -0.417326  4.658196 -0.683307  0.0\n",
       "2008Q3  1.922287 -0.372879 -0.373277 -0.372907  4.681036 -0.633933  0.0\n",
       "2008Q4  1.923048 -0.251563 -0.251961 -0.251591  4.549043 -0.431209  0.0\n",
       "2009Q1  1.923453 -0.243585 -0.243983 -0.243613  4.554317 -0.359546  0.0\n",
       "2009Q2  1.922131 -0.282459 -0.282858 -0.282487  4.566410 -0.449488  0.0\n",
       "2009Q3  1.922326 -0.328336 -0.328735 -0.328364  4.532194 -0.482188  0.0\n",
       "2009Q4  1.921887 -0.356470 -0.356869 -0.356498  4.501583 -0.493218  0.0\n",
       "2010Q1  1.921833 -0.283739 -0.284138 -0.283767  4.512903 -0.442792  0.0\n",
       "2010Q2  1.919702 -0.195278 -0.195676 -0.195306  4.508324 -0.394335  0.0\n",
       "2010Q3  1.911245 -0.238517 -0.238916 -0.238545  4.445326 -0.445191  0.0\n",
       "2010Q4  1.896054 -0.265475 -0.265874 -0.265503  4.410150 -0.449416  0.0\n",
       "2011Q1  1.883814 -0.296361 -0.296760 -0.296389  4.412819 -0.474146  0.0\n",
       "2011Q2  1.871238 -0.336721 -0.337120 -0.336749  4.402017 -0.489325  0.0\n",
       "\n",
       "[130 rows x 7 columns]"
      ]
     },
     "execution_count": 66,
     "metadata": {},
     "output_type": "execute_result"
    }
   ],
   "source": [
    "pd.DataFrame(e)"
   ]
  },
  {
   "cell_type": "code",
   "execution_count": 107,
   "metadata": {
    "ExecuteTime": {
     "end_time": "2018-02-12T14:54:30.755428Z",
     "start_time": "2018-02-12T14:54:29.074175Z"
    }
   },
   "outputs": [
    {
     "data": {
      "image/png": "[encoded data removed]",
      "text/latex": [
       "$$0.065853013831$$"
      ],
      "text/plain": [
       "0.065853013831"
      ]
     },
     "execution_count": 107,
     "metadata": {},
     "output_type": "execute_result"
    }
   ],
   "source": [
    "w['China'].dropna()[idx['France']].values[0]"
   ]
  },
  {
   "cell_type": "code",
   "execution_count": 113,
   "metadata": {
    "ExecuteTime": {
     "end_time": "2018-02-12T15:01:49.914804Z",
     "start_time": "2018-02-12T15:01:49.886238Z"
    }
   },
   "outputs": [],
   "source": [
    "w['China'].dropna().index.get_level_values(0)\n",
    "\n",
    "get_eTilda = lambda x, y: y - sum([x.dropna()[idx[region]].values[0] for region in x.dropna().index.get_level_values(0)])"
   ]
  },
  {
   "cell_type": "code",
   "execution_count": 130,
   "metadata": {
    "ExecuteTime": {
     "end_time": "2018-02-12T15:20:19.420609Z",
     "start_time": "2018-02-12T15:20:16.733177Z"
    }
   },
   "outputs": [
    {
     "data": {
      "image/png": "[encoded data removed]",
      "text/latex": [
       "$$0.452329787378$$"
      ],
      "text/plain": [
       "0.452329787378"
      ]
     },
     "execution_count": 130,
     "metadata": {},
     "output_type": "execute_result"
    }
   ],
   "source": [
    "bob=pd.DataFrame(e)\n",
    "\n",
    "bob.iloc[0]['China']"
   ]
  },
  {
   "cell_type": "code",
   "execution_count": null,
   "metadata": {
    "ExecuteTime": {
     "end_time": "2018-02-12T20:31:50.882960Z",
     "start_time": "2018-02-12T20:31:47.216279Z"
    }
   },
   "outputs": [],
   "source": []
  },
  {
   "cell_type": "code",
   "execution_count": 40,
   "metadata": {
    "ExecuteTime": {
     "end_time": "2018-02-12T22:21:35.403975Z",
     "start_time": "2018-02-12T22:21:29.479216Z"
    }
   },
   "outputs": [
    {
     "name": "stdout",
     "output_type": "stream",
     "text": [
      "Order p:  2  Co-integrating rank:  1 \n",
      "Number of parameters:  23 \n",
      "initial estimates:  -0.0001612138 -0.002522158 -0.0004090163 -0.0001167729 1 1 1 0.002175153 -0.002252049 -0.003076825 -0.007182022 0.03402985 -0.03523286 -0.04813632 -0.1123613 0.005518593 -0.005713685 -0.007806227 -0.01822154 0.001575542 -0.00163124 -0.002228655 -0.005202197 \n",
      "Par. Lower-bounds:  -0.001281439 -0.0037349 -0.0009637744 -0.0002523696 0.9069739 0.9069739 0.9069739 -0.1712662 -0.09231841 -0.3633811 -0.8207534 -0.1537356 -0.1327376 -0.4381973 -0.9931236 -0.08037306 -0.05031636 -0.1862362 -0.4211184 -0.01941851 -0.01253324 -0.04584137 -0.1036802 \n",
      "Par. Upper-bounds:  0.0009590116 -0.001309416 0.0001457419 1.882374e-05 1.093026 1.093026 1.093026 0.1756165 0.08781432 0.3572275 0.8063893 0.2217953 0.06227187 0.3419247 0.768401 0.09141025 0.03888899 0.1706237 0.3846753 0.0225696 0.009270762 0.04138406 0.09327582 \n",
      "Final   Estimates:  0.0009590116 -0.001309416 -0.0003501017 -0.0001754271 1.093026 0.9069739 1.093026 -0.1661911 0.0132645 0.1285054 0.1019962 0.2089182 -0.01749402 -0.1445798 -0.1550024 0.04780408 -0.004400977 -0.02483574 -0.04847936 0.0225696 -0.002157694 -0.01007086 -0.02549711 \n",
      "\n",
      "Coefficient(s):\n",
      "        Estimate  Std. Error  t value Pr(>|t|)   \n",
      " [1,]  9.590e-04          NA       NA       NA   \n",
      " [2,] -1.309e-03   4.632e-04   -2.827   0.0047 **\n",
      " [3,] -3.501e-04          NA       NA       NA   \n",
      " [4,] -1.754e-04   7.809e-05   -2.247   0.0247 * \n",
      " [5,]  1.093e+00   6.892e-01    1.586   0.1127   \n",
      " [6,]  9.070e-01          NA       NA       NA   \n",
      " [7,]  1.093e+00   1.000e+01    0.109   0.9130   \n",
      " [8,] -1.662e-01   9.537e-02   -1.743   0.0814 . \n",
      " [9,]  1.326e-02   5.353e-02    0.248   0.8043   \n",
      "[10,]  1.285e-01   2.156e-01    0.596   0.5511   \n",
      "[11,]  1.020e-01   4.884e-01    0.209   0.8346   \n",
      "[12,]  2.089e-01   1.532e-01    1.364   0.1727   \n",
      "[13,] -1.749e-02   6.762e-02   -0.259   0.7959   \n",
      "[14,] -1.446e-01   2.780e-01   -0.520   0.6030   \n",
      "[15,] -1.550e-01   6.187e-01   -0.251   0.8022   \n",
      "[16,]  4.780e-02   5.922e-02    0.807   0.4195   \n",
      "[17,] -4.401e-03   3.088e-02   -0.143   0.8867   \n",
      "[18,] -2.484e-02   1.244e-01   -0.200   0.8417   \n",
      "[19,] -4.848e-02   2.832e-01   -0.171   0.8641   \n",
      "[20,]  2.257e-02   1.798e-02    1.256   0.2093   \n",
      "[21,] -2.158e-03   7.289e-03   -0.296   0.7672   \n",
      "[22,] -1.007e-02   3.005e-02   -0.335   0.7375   \n",
      "[23,] -2.550e-02   6.689e-02   -0.381   0.7031   \n",
      "---\n",
      "Signif. codes:  0 '***' 0.001 '**' 0.01 '*' 0.05 '.' 0.1 ' ' 1\n",
      "alpha:  \n",
      "          [,1]\n",
      "[1,]  0.000959\n",
      "[2,] -0.001309\n",
      "[3,] -0.000350\n",
      "[4,] -0.000175\n",
      "standard error \n",
      "         [,1]\n",
      "[1,]      NaN\n",
      "[2,] 4.63e-04\n",
      "[3,]      NaN\n",
      "[4,] 7.81e-05\n",
      "beta:  \n",
      "      [,1]\n",
      "[1,] 1.000\n",
      "[2,] 1.093\n",
      "[3,] 0.907\n",
      "[4,] 1.093\n",
      "standard error \n",
      "       [,1]\n",
      "[1,]  1.000\n",
      "[2,]  0.689\n",
      "[3,]    NaN\n",
      "[4,] 10.000\n",
      "AR coefficient matrix \n",
      "AR( 1 )-matrix \n",
      "        [,1]     [,2]    [,3]    [,4]\n",
      "[1,] -0.1662  0.01326  0.1285  0.1020\n",
      "[2,]  0.2089 -0.01749 -0.1446 -0.1550\n",
      "[3,]  0.0478 -0.00440 -0.0248 -0.0485\n",
      "[4,]  0.0226 -0.00216 -0.0101 -0.0255\n",
      "standard error \n",
      "       [,1]    [,2]  [,3]   [,4]\n",
      "[1,] 0.0954 0.05353 0.216 0.4884\n",
      "[2,] 0.1532 0.06762 0.278 0.6187\n",
      "[3,] 0.0592 0.03088 0.124 0.2832\n",
      "[4,] 0.0180 0.00729 0.030 0.0669\n",
      "----- \n",
      "Residuals cov-mtx: \n",
      "               y            e            p          rho\n",
      "y   7.294800e-04 3.633904e-04 3.671503e-04 2.694929e-05\n",
      "e   3.633904e-04 1.154972e-03 1.935791e-04 5.377585e-06\n",
      "p   3.671503e-04 1.935791e-04 2.439383e-04 2.031741e-05\n",
      "rho 2.694929e-05 5.377585e-06 2.031741e-05 1.342233e-05\n",
      "       \n",
      "det(sse) =  4.851471e-16 \n",
      "AIC =  -35.08516 \n",
      "BIC =  -34.77017 \n"
     ]
    }
   ],
   "source": [
    "%R -i y y <- data.frame(y)\n",
    "%R -i e e <- data.frame(e)\n",
    "%R -i p p <- data.frame(p)\n",
    "%R -i rho rho <- data.frame(rho)\n",
    "\n",
    "%R china <- data.frame(y['China'], e['China'], p['China'], rho['China'])\n",
    "%R names(china) <- c('y', 'e', 'p', 'rho')\n",
    "x = %R capture.output(ECMvar(china, 2, c(1,1,1,1)))\n",
    "for line in x: print(line)"
   ]
  },
  {
   "cell_type": "code",
   "execution_count": 41,
   "metadata": {
    "ExecuteTime": {
     "end_time": "2018-02-12T22:30:39.981057Z",
     "start_time": "2018-02-12T22:30:24.449769Z"
    }
   },
   "outputs": [],
   "source": [
    "%R install.packages('urca')"
   ]
  },
  {
   "cell_type": "code",
   "execution_count": 31,
   "metadata": {
    "ExecuteTime": {
     "end_time": "2018-02-13T16:14:36.258786Z",
     "start_time": "2018-02-13T16:14:35.850162Z"
    }
   },
   "outputs": [
    {
     "name": "stdout",
     "output_type": "stream",
     "text": [
      "\n",
      "###################### \n",
      "# Johansen-Procedure # \n",
      "###################### \n",
      "\n",
      "Test type: maximal eigenvalue statistic (lambda max) , with linear trend \n",
      "\n",
      "Eigenvalues (lambda):\n",
      "[1] 0.2293384385 0.1096654761 0.0907079693 0.0004714185\n",
      "\n",
      "Values of teststatistic and critical values of test:\n",
      "\n",
      "          test 10pct  5pct  1pct\n",
      "r <= 3 |  0.06  6.50  8.18 11.65\n",
      "r <= 2 | 12.17 12.91 14.90 19.19\n",
      "r <= 1 | 14.87 18.90 21.07 25.75\n",
      "r = 0  | 33.34 24.78 27.14 32.14\n",
      "\n",
      "Eigenvectors, normalised to first column:\n",
      "(These are the cointegration relations)\n",
      "\n",
      "              y.l2      e.l2        p.l2     rho.l2\n",
      "y.l2      1.000000  1.000000    1.000000  1.0000000\n",
      "e.l2      3.840216  1.611148  -51.916588 -0.9032136\n",
      "p.l2     -7.296459 -4.130745   -2.132475 -1.2816761\n",
      "rho.l2 -103.799465  4.763804 -177.859468  9.3241144\n",
      "\n",
      "Weights W:\n",
      "(This is the loading matrix)\n",
      "\n",
      "               y.l2         e.l2          p.l2        rho.l2\n",
      "y.d    0.0011268953 1.357076e-02 -2.108745e-05  2.614037e-04\n",
      "e.d   -0.0055963757 1.861738e-02  2.962646e-04  1.286552e-03\n",
      "p.d   -0.0002266615 8.614093e-03  1.238564e-05 -2.617520e-04\n",
      "rho.d  0.0006942405 3.028962e-05  3.696424e-05 -7.290888e-05\n",
      "\n"
     ]
    }
   ],
   "source": [
    "%R -i y y <- data.frame(y)\n",
    "%R -i e e <- data.frame(e)\n",
    "%R -i p p <- data.frame(p)\n",
    "%R -i rho rho <- data.frame(rho)\n",
    "\n",
    "%R china <- data.frame(y['China'], e['China'], p['China'], rho['China'])\n",
    "%R names(china) <- c('y', 'e', 'p', 'rho')\n",
    "#%R chinaR <- read.csv('c:/users/benmo/desktop/test1.csv', header=TRUE)\n",
    "%R -n bob <- ca.jo(china, type = c('eigen'), ecdet = c('none'), K = 2,spec=c('longrun'), season = NULL, dumvar = NULL)\n",
    "x = %R capture.output(summary(bob))\n",
    "for line in x:\n",
    "    print(line)"
   ]
  },
  {
   "cell_type": "code",
   "execution_count": 25,
   "metadata": {
    "ExecuteTime": {
     "end_time": "2018-02-16T15:03:19.324267Z",
     "start_time": "2018-02-16T15:03:19.272188Z"
    }
   },
   "outputs": [],
   "source": [
    "%%R\n",
    "a= list()\n",
    "for(i in 1:8){\n",
    "    a[[i]] = 3\n",
    "}"
   ]
  },
  {
   "cell_type": "code",
   "execution_count": 29,
   "metadata": {
    "ExecuteTime": {
     "end_time": "2018-02-16T15:03:58.810137Z",
     "start_time": "2018-02-16T15:03:54.343784Z"
    }
   },
   "outputs": [
    {
     "data": {
      "image/png": "[encoded data removed]",
      "text/latex": [
       "$$3.0$$"
      ],
      "text/plain": [
       "3.0"
      ]
     },
     "execution_count": 29,
     "metadata": {},
     "output_type": "execute_result"
    }
   ],
   "source": [
    "x = %R a[[1]]\n",
    "x[0]"
   ]
  },
  {
   "cell_type": "code",
   "execution_count": 28,
   "metadata": {
    "ExecuteTime": {
     "end_time": "2018-02-13T11:18:35.451471Z",
     "start_time": "2018-02-13T11:18:35.424429Z"
    }
   },
   "outputs": [],
   "source": [
    "bob = pd.DataFrame([])\n",
    "for x in [y['China'],e['China'],p['China'],rho['China']]:\n",
    "    bob = pd.concat([bob, pd.DataFrame(x)], axis=1)\n",
    "bob.columns=['y', 'e', 'p', 'rho']"
   ]
  },
  {
   "cell_type": "code",
   "execution_count": 31,
   "metadata": {
    "ExecuteTime": {
     "end_time": "2018-02-13T11:20:57.236687Z",
     "start_time": "2018-02-13T11:20:57.189614Z"
    }
   },
   "outputs": [],
   "source": [
    "bob.to_csv(\"c:/users/benmo/desktop/test1.csv\", index=False)"
   ]
  },
  {
   "cell_type": "code",
   "execution_count": null,
   "metadata": {},
   "outputs": [],
   "source": []
  }
 ],
 "metadata": {
  "anaconda-cloud": {},
  "kernelspec": {
   "display_name": "Python [conda root]",
   "language": "python",
   "name": "conda-root-py"
  },
  "language_info": {
   "codemirror_mode": {
    "name": "ipython",
    "version": 3
   },
   "file_extension": ".py",
   "mimetype": "text/x-python",
   "name": "python",
   "nbconvert_exporter": "python",
   "pygments_lexer": "ipython3",
   "version": "3.6.3"
  },
  "toc": {
   "nav_menu": {},
   "number_sections": true,
   "sideBar": true,
   "skip_h1_title": false,
   "toc_cell": true,
   "toc_position": {
    "height": "543px",
    "left": "0px",
    "right": "auto",
    "top": "136px",
    "width": "158px"
   },
   "toc_section_display": "block",
   "toc_window_display": true
  },
  "varInspector": {
   "cols": {
    "lenName": 16,
    "lenType": 16,
    "lenVar": 40
   },
   "kernels_config": {
    "python": {
     "delete_cmd_postfix": "",
     "delete_cmd_prefix": "del ",
     "library": "var_list.py",
     "varRefreshCmd": "print(var_dic_list())"
    },
    "r": {
     "delete_cmd_postfix": ") ",
     "delete_cmd_prefix": "rm(",
     "library": "var_list.r",
     "varRefreshCmd": "cat(var_dic_list()) "
    }
   },
   "position": {
    "height": "145px",
    "left": "1032.36px",
    "right": "20px",
    "top": "53px",
    "width": "350px"
   },
   "types_to_exclude": [
    "module",
    "function",
    "builtin_function_or_method",
    "instance",
    "_Feature"
   ],
   "window_display": true
  }
 },
 "nbformat": 4,
 "nbformat_minor": 2
}
